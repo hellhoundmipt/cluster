{
 "cells": [
  {
   "cell_type": "code",
   "execution_count": 1,
   "metadata": {
    "collapsed": true
   },
   "outputs": [],
   "source": [
    "from os import listdir\n",
    "import jsonlines\n",
    "import sklearn\n",
    "import itertools\n",
    "from tqdm import tqdm\n",
    "from tqdm import trange\n",
    "from sklearn.preprocessing import MultiLabelBinarizer\n",
    "import re\n",
    "import nltk\n",
    "import pymorphy2 as pm\n",
    "import networkx as nx\n",
    "\n",
    "tknzr = nltk.TweetTokenizer()\n",
    "#nltk.download()"
   ]
  },
  {
   "cell_type": "markdown",
   "metadata": {},
   "source": [
    "## Достаём связи между категориями\n",
    "(node_2_id) $\\rightarrow$ (node_1_id)"
   ]
  },
  {
   "cell_type": "code",
   "execution_count": 2,
   "metadata": {},
   "outputs": [
    {
     "name": "stderr",
     "output_type": "stream",
     "text": [
      "719813it [00:05, 128792.74it/s]\n"
     ]
    }
   ],
   "source": [
    "links = [link for link in tqdm(jsonlines.open('links/link_directed.txt', 'r'))]"
   ]
  },
  {
   "cell_type": "code",
   "execution_count": 3,
   "metadata": {},
   "outputs": [
    {
     "name": "stderr",
     "output_type": "stream",
     "text": [
      "100%|██████████████████████████████████████████████████████████████████████| 719813/719813 [00:01<00:00, 716111.65it/s]\n"
     ]
    }
   ],
   "source": [
    "categories_id_dict = {}\n",
    "for link in tqdm(links):\n",
    "    categories_id_dict[link['node_1_id']] = link['node_1_title']\n",
    "    categories_id_dict[link['node_2_id']] = link['node_2_title']"
   ]
  },
  {
   "cell_type": "code",
   "execution_count": 4,
   "metadata": {
    "scrolled": true
   },
   "outputs": [
    {
     "name": "stdout",
     "output_type": "stream",
     "text": [
      "Number of nodes: 344614\n",
      "Number of edges: 719389\n",
      "Is it a forest? False\n",
      "Connected components: 58\n"
     ]
    }
   ],
   "source": [
    "categories_forest = nx.DiGraph()\n",
    "categories_forest.add_edges_from([(link['node_2_id'], link['node_1_id']) for link in links])\n",
    "\n",
    "print(\"Number of nodes:\", categories_forest.number_of_nodes())\n",
    "print(\"Number of edges:\", categories_forest.number_of_edges())\n",
    "print(\"Is it a forest?\", nx.is_forest(categories_forest))\n",
    "print(\"Connected components:\", nx.number_weakly_connected_components(categories_forest))"
   ]
  },
  {
   "cell_type": "code",
   "execution_count": 14,
   "metadata": {
    "collapsed": true
   },
   "outputs": [],
   "source": [
    "components = list(nx.weakly_connected_component_subgraphs(categories_forest))"
   ]
  },
  {
   "cell_type": "code",
   "execution_count": 15,
   "metadata": {},
   "outputs": [
    {
     "name": "stdout",
     "output_type": "stream",
     "text": [
      "['Категория:Всё', 'Категория:Футбол в Арубе ', 'Категория:Википедия:Переименованные категории со статьями', 'Категория:Википедия:Перевод', 'Категория:Википедия:Проблемы с шаблонами', 'Категория:Избранные статьи по проектам', 'Категория:Хорошие статьи по проектам', 'Категория:Статьи проекта Подводные лодки по уровню', 'Категория:Статьи проекта Подводные лодки по важности', 'Категория:Википедия:Статьи с утверждениями без источников', 'Категория:Незавершённые статьи о вооруженных силах Третьего рейха', 'Категория:Статьи проекта Санкт-Петербург по качеству', 'Категория:Статьи проекта Речное пароходство по уровню', 'Категория:Статьи проекта Речное пароходство по важности', 'Категория:Статьи проекта Современное искусство по уровню', 'Категория:Статьи проекта Современное искусство по важности', 'Категория:Статьи проекта Наука по качеству', 'Категория:Статьи проекта Территории с нечётким правовым статусом по качеству', 'Категория:Статьи проекта Фармация по уровню', 'Категория:Статьи проекта Фармация по важности', 'Категория:Статьи проекта Казахстан по качеству', 'Категория:Статьи проекта Казахстан по важности', 'Категория:Статьи проекта Крейсера по важности', 'Категория:Статьи проекта Крейсера по уровню', 'Категория:Статьи проекта Футбол по уровню', 'Категория:Статьи проекта Футбол по важности', 'Категория:Статьи проекта Крым по уровню', 'Категория:Статьи проекта Крым по важности', 'Категория:Википедия:Статьи о железнодорожной инфраструктуре без указанных географических координат', 'Категория:Статьи проекта Настольные игры по важности', 'Категория:Статьи проекта Ирландия по уровню', 'Категория:Статьи проекта Ирландия по важности', 'Категория:Википедия:Водные объекты без указанных географических координат', 'Категория:Статьи проекта Физика по уровню', 'Категория:Википедия:Статьи с некорректным использованием шаблонов', 'Категория:Статьи проекта Компьютерные игры по важности', 'Категория:Статьи проекта Компьютерные игры по уровню', 'Категория:Статьи проекта Настольные игры по уровню', 'Категория:Статьи проекта Екатеринбург по важности', 'Категория:Статьи проекта Шахматы по важности', 'Категория:Статьи проекта Шашки по важности', 'Категория:Статьи проекта Шашки по уровню', 'Категория:Статьи проекта Шахматы по уровню', 'Категория:Статьи проекта Территории с нечётким правовым статусом по уровню', 'Категория:Статьи проекта Ростов-на-Дону по уровню', 'Категория:Статьи проекта Ростов-на-Дону по важности', 'Категория:Статьи проекта Удмуртия высшей важности', 'Категория:Статьи проекта Удмуртия средней важности', 'Категория:Статьи проекта Удмуртия II уровня', 'Категория:Статьи проекта Удмуртия IV уровня', 'Категория:Статьи проекта Удмуртия высокой важности', 'Категория:Статьи проекта Удмуртия неизвестной важности', 'Категория:Статьи проекта Удмуртия неизвестного уровня', 'Категория:Статьи проекта Удмуртия I уровня', 'Категория:Статьи проекта Удмуртия III уровня', 'Категория:Статьи проекта Грузия по уровню', 'Категория:Статьи проекта Грузия по важности', 'Категория:Статьи проекта Нагорно-Карабахская Республика по важности', 'Категория:Статьи проекта Конопля по качеству', 'Категория:Статьи проекта Тюменская область по важности', 'Категория:Статьи проекта Тюменская область по уровню и важности', 'Категория:Статьи проекта Европейский союз по уровню', 'Категория:Статьи проекта Европейский союз по важности', 'Категория:Статьи проекта Неакадемические исследования по важности', 'Категория:Статьи проекта Канада по важности', 'Категория:Статьи проекта Канада по уровню', 'Категория:Статьи проекта Уэльс по уровню', 'Категория:Статьи проекта Уэльс по важности', 'Категория:Статьи проекта Ракетное оружие по уровню', 'Категория:Статьи проекта Ракетное оружие по важности', 'Категория:Статьи проекта Украина по важности', 'Категория:Статьи проекта Украина по уровню', 'Категория:Статьи проекта Дания неизвестной важности', 'Категория:Статьи проекта Кино по важности', 'Категория:Статьи проекта Кино по качеству и важности', 'Категория:Статьи проекта Кино по уровню', 'Категория:Статьи с утверждениями без цитаты', 'Категория:Статьи проекта Теннис по важности', 'Категория:Статьи проекта Теннис по уровню', 'Категория:Статьи проекта Музыка по уровню', 'Категория:Статьи проекта Харьков по уровню', 'Категория:Статьи проекта Химия по уровню', 'Категория:Статьи проекта Химия по важности', 'Категория:Статьи проекта Польша по уровню', 'Категория:Статьи проекта Польша по важности', 'Категория:Статьи проекта Фашизм по важности', 'Категория:Статьи проекта Фашизм по уровню', 'Категория:Статьи проекта Наука по уровню', 'Категория:Статьи проекта Норвегия по уровню', 'Категория:Статьи проекта Комиксы по важности', 'Категория:Статьи проекта Комиксы по уровню', 'Категория:Статьи проекта Православие по уровню', 'Категория:Статьи проекта Православие по важности', 'Категория:Статьи проекта Ислам по важности', 'Категория:Статьи проекта Ислам по уровню', 'Категория:Статьи проекта Омск по уровню', 'Категория:Статьи проекта Югра по уровню', 'Категория:Статьи проекта Омск по уровню и важности', 'Категория:Статьи проекта Омск по важности', 'Категория:Статьи проекта Югра по важности', 'Категория:Статьи проекта Снукер по уровню', 'Категория:Статьи проекта Снукер по важности', 'Категория:Персонажи «Эры зверей»', 'Категория:Статьи проекта Медицина по важности', 'Категория:Статьи проекта Трансформеры по уровню', 'Категория:Статьи проекта Трансформеры по важности', 'Категория:Списки проекта Чехия', 'Категория:Статьи проекта Чехия по уровню', 'Категория:Статьи проекта Пермский край по качеству', 'Категория:Избранные списки проекта Строительство', 'Категория:Статьи проекта Эволюционная биология по уровню', 'Категория:Статьи проекта Эволюционная биология по важности', 'Категория:Статьи проекта Франция по важности', 'Категория:Статьи проекта Франция по уровню', 'Категория:Википедия:Площади без указанных географических координат', 'Категория:Статьи проекта Математика по уровню', 'Категория:Статьи проекта Математика по важности', 'Категория:Статьи проекта Мода по важности', 'Категория:Статьи проекта Мода по уровню', 'Категория:Статьи проекта Геральдика по важности', 'Категория:Статьи проекта Геральдика по уровню', 'Категория:Статьи проекта Литва по важности', 'Категория:Статьи проекта Литва по уровню', 'Категория:Статьи проекта Известные картины по важности', 'Категория:Статьи проекта Известные картины по уровню', 'Категория:Статьи проекта Хоккей с мячом по важности', 'Категория:Статьи проекта Хоккей с мячом по уровню', 'Категория:Статьи проекта Английский футбол по важности', 'Категория:Незавершённые статьи о сооружениях', 'Категория:Статьи проекта Театр средней важности', 'Категория:Статьи проекта Театр III уровня', 'Категория:Статьи проекта Искусство неизвестного уровня', 'Категория:Статьи проекта Искусство неизвестной важности', 'Категория:Статьи проекта ЛГБТ по уровню', 'Категория:Статьи проекта ЛГБТ по важности', 'Категория:Хорошие статьи проекта Русский рок', 'Категория:Статьи проекта Генеалогия по уровню', 'Категория:Статьи проекта Генеалогия по важности', 'Категория:Статьи проекта Русский рок', 'Категория:Статьи проекта Свидетели Иеговы по важности', 'Категория:Статьи проекта Самара по важности', 'Категория:Статьи проекта Самара по уровню', 'Категория:Хорошие статьи проекта Экономика', 'Категория:Википедия:Статьи с сомнительной значимостью по давности', 'Категория:Списки проекта Россия', 'Категория:Статьи проекта Свидетели Иеговы по уровню', 'Категория:Статьи проекта Филателия и почта неизвестного уровня', 'Категория:Статьи проекта Филателия и почта неизвестной важности', 'Категория:Статьи проекта Ленин по уровню', 'Категория:Статьи проекта Ленин по важности', 'Категория:Статьи проекта Физиология по уровню', 'Категория:Статьи проекта Физиология по важности', 'Категория:Статьи проекта Свердловская область по важности', 'Категория:Статьи проекта Свердловская область по уровню', 'Категория:Незавершённые статьи о подвижном составе', 'Категория:Статьи проекта Гражданская война в США по важности', 'Категория:Статьи проекта Гражданская война в США по уровню', 'Категория:Статьи проекта Удмуртия низкой важности', 'Категория:Статьи проекта Хоррор II уровня', 'Категория:Списки проекта Русский рок', 'Категория:Статьи проекта Феминизм II уровня', 'Категория:Статьи проекта Феминизм средней важности', 'Категория:Википедия:Координационные списки проектов', 'Категория:Русские коллаборационисты с нацистской Германией', 'Категория:Статьи проекта Греция низкой важности', 'Категория:Инкубатор, Статьи по значимости', 'Категория:Статьи проекта Феминизм высокой важности', 'Категория:Статьи проекта История России III уровня', 'Категория:Хорошие статьи проекта Удмуртия', 'Категория:Списки проекта СССР', 'Категория:Статьи проекта Сексология по важности', 'Категория:Статьи проекта Сексология по уровню', 'Категория:Статьи проекта Анатомия неизвестной важности', 'Категория:Статьи проекта Антарктика высшей важности', 'Категория:Статьи проекта Белгородская область низкой важности', 'Категория:Статьи проекта Антарктика низкой важности', 'Категория:Статьи проекта Анатомия высокой важности', 'Категория:Статьи проекта Анатомия высшей важности', 'Категория:Статьи проекта Греция высокой важности', 'Категория:Хорошие статьи проекта Филателия и почта', 'Категория:Статьи проекта Военная история I уровня', 'Категория:Статьи проекта Пермский край по уровню', 'Категория:Статьи проекта Цитология по уровню', 'Категория:Статьи проекта Социология неизвестной важности', 'Категория:Статьи проекта Немецкий футбол по уровню', 'Категория:Статьи проекта Немецкий футбол по важности', 'Категория:Кандидаты в статьи года по годам', 'Категория:Статьи проекта Сербия низкой важности', 'Категория:Статьи проекта Числа по уровню', 'Категория:Статьи проекта Числа по важности', 'Категория:Статьи проекта:Месяц Азии по участникам', 'Категория:Википедия:Статьи без источников по странам', 'Категория:Списки проекта Медицина', 'Категория:Википедия:Страницы на КПМ по типам', 'Категория:Википедия:Страницы на КУЛ по странам', 'Категория:Википедия:Страницы на КПМ по странам', 'Категория:Википедия:Страницы на КУЛ по типам', 'Категория:Статьи проекта Спорт по уровню', 'Категория:Статьи проекта Триатлон по важности', 'Категория:Статьи проекта Триатлон по уровню', 'Категория:Статьи проекта Исландия по уровню']"
     ]
    },
    {
     "name": "stdout",
     "output_type": "stream",
     "text": [
      "\n",
      "['Категория:Статьи проекта Россия II уровня']\n",
      "['Категория:Статьи проекта Наука по качеству и важности']\n",
      "['Категория:Статьи проекта История России неизвестного уровня']\n",
      "['Категория:Статьи проекта Русский рок I уровня']\n",
      "['Категория:Статьи проекта Дания II уровня']\n",
      "['Категория:Статьи проекта Монголия низкой важности']\n",
      "['Категория:Статьи проекта История России I уровня']\n",
      "[]\n",
      "[]\n",
      "[]\n",
      "[]\n",
      "[]\n",
      "[]\n",
      "[]\n",
      "[]\n",
      "[]\n",
      "[]\n",
      "[]\n",
      "[]\n",
      "[]\n",
      "[]\n",
      "[]\n",
      "[]\n",
      "[]\n",
      "[]\n",
      "['Категория:Хорошие статьи проекта История России']\n",
      "['Категория:Избранные статьи проекта История России']\n",
      "['Категория:Статьи проекта Военная история II уровня']\n",
      "[]\n",
      "[]\n",
      "[]\n",
      "[]\n",
      "[]\n",
      "[]\n",
      "[]\n",
      "[]\n",
      "[]\n",
      "['Категория:Статьи проекта Антарктика II уровня']\n",
      "['Категория:Статьи проекта Антарктика III уровня']\n",
      "[]\n",
      "[]\n",
      "[]\n",
      "[]\n",
      "[]\n",
      "[]\n",
      "[]\n",
      "[]\n",
      "[]\n",
      "[]\n",
      "[]\n",
      "[]\n",
      "[]\n",
      "[]\n",
      "[]\n",
      "[]\n",
      "[]\n",
      "[]\n"
     ]
    }
   ],
   "source": [
    "for c in components:\n",
    "    roots = []\n",
    "    for node in list(c.nodes):\n",
    "        if len(list(c.predecessors(node))) == 0:\n",
    "            roots.append(node)\n",
    "            \n",
    "    print([categories_id_dict[root] for root in roots])\n",
    "            "
   ]
  },
  {
   "cell_type": "code",
   "execution_count": 19,
   "metadata": {},
   "outputs": [
    {
     "name": "stdout",
     "output_type": "stream",
     "text": [
      "0\n",
      "Number of nodes: 344531\n",
      "Number of edges: 719318\n",
      "1\n",
      "Number of nodes: 6\n",
      "Number of edges: 5\n",
      "2\n",
      "Number of nodes: 2\n",
      "Number of edges: 1\n",
      "3\n",
      "Number of nodes: 4\n",
      "Number of edges: 3\n",
      "4\n",
      "Number of nodes: 4\n",
      "Number of edges: 3\n",
      "5\n",
      "Number of nodes: 2\n",
      "Number of edges: 1\n",
      "6\n",
      "Number of nodes: 2\n",
      "Number of edges: 1\n",
      "7\n",
      "Number of nodes: 4\n",
      "Number of edges: 3\n",
      "8\n",
      "Number of nodes: 1\n",
      "Number of edges: 1\n",
      "9\n",
      "Number of nodes: 1\n",
      "Number of edges: 1\n",
      "10\n",
      "Number of nodes: 1\n",
      "Number of edges: 1\n",
      "11\n",
      "Number of nodes: 1\n",
      "Number of edges: 1\n",
      "12\n",
      "Number of nodes: 1\n",
      "Number of edges: 1\n",
      "13\n",
      "Number of nodes: 1\n",
      "Number of edges: 1\n",
      "14\n",
      "Number of nodes: 1\n",
      "Number of edges: 1\n",
      "15\n",
      "Number of nodes: 1\n",
      "Number of edges: 1\n",
      "16\n",
      "Number of nodes: 1\n",
      "Number of edges: 1\n",
      "17\n",
      "Number of nodes: 1\n",
      "Number of edges: 1\n",
      "18\n",
      "Number of nodes: 1\n",
      "Number of edges: 1\n",
      "19\n",
      "Number of nodes: 1\n",
      "Number of edges: 1\n",
      "20\n",
      "Number of nodes: 1\n",
      "Number of edges: 1\n",
      "21\n",
      "Number of nodes: 1\n",
      "Number of edges: 1\n",
      "22\n",
      "Number of nodes: 2\n",
      "Number of edges: 2\n",
      "23\n",
      "Number of nodes: 1\n",
      "Number of edges: 1\n",
      "24\n",
      "Number of nodes: 1\n",
      "Number of edges: 1\n",
      "25\n",
      "Number of nodes: 1\n",
      "Number of edges: 1\n",
      "26\n",
      "Number of nodes: 3\n",
      "Number of edges: 2\n",
      "27\n",
      "Number of nodes: 2\n",
      "Number of edges: 1\n",
      "28\n",
      "Number of nodes: 3\n",
      "Number of edges: 2\n",
      "29\n",
      "Number of nodes: 1\n",
      "Number of edges: 1\n",
      "30\n",
      "Number of nodes: 1\n",
      "Number of edges: 1\n",
      "31\n",
      "Number of nodes: 1\n",
      "Number of edges: 1\n",
      "32\n",
      "Number of nodes: 1\n",
      "Number of edges: 1\n",
      "33\n",
      "Number of nodes: 1\n",
      "Number of edges: 1\n",
      "34\n",
      "Number of nodes: 1\n",
      "Number of edges: 1\n",
      "35\n",
      "Number of nodes: 1\n",
      "Number of edges: 1\n",
      "36\n",
      "Number of nodes: 1\n",
      "Number of edges: 1\n",
      "37\n",
      "Number of nodes: 1\n",
      "Number of edges: 1\n",
      "38\n",
      "Number of nodes: 2\n",
      "Number of edges: 1\n",
      "39\n",
      "Number of nodes: 2\n",
      "Number of edges: 1\n",
      "40\n",
      "Number of nodes: 1\n",
      "Number of edges: 1\n",
      "41\n",
      "Number of nodes: 1\n",
      "Number of edges: 1\n",
      "42\n",
      "Number of nodes: 1\n",
      "Number of edges: 1\n",
      "43\n",
      "Number of nodes: 1\n",
      "Number of edges: 1\n",
      "44\n",
      "Number of nodes: 1\n",
      "Number of edges: 1\n",
      "45\n",
      "Number of nodes: 1\n",
      "Number of edges: 1\n",
      "46\n",
      "Number of nodes: 1\n",
      "Number of edges: 1\n",
      "47\n",
      "Number of nodes: 1\n",
      "Number of edges: 1\n",
      "48\n",
      "Number of nodes: 1\n",
      "Number of edges: 1\n",
      "49\n",
      "Number of nodes: 1\n",
      "Number of edges: 1\n",
      "50\n",
      "Number of nodes: 1\n",
      "Number of edges: 1\n",
      "51\n",
      "Number of nodes: 1\n",
      "Number of edges: 1\n",
      "52\n",
      "Number of nodes: 1\n",
      "Number of edges: 1\n",
      "53\n",
      "Number of nodes: 1\n",
      "Number of edges: 1\n",
      "54\n",
      "Number of nodes: 1\n",
      "Number of edges: 1\n",
      "55\n",
      "Number of nodes: 2\n",
      "Number of edges: 2\n",
      "56\n",
      "Number of nodes: 1\n",
      "Number of edges: 1\n",
      "57\n",
      "Number of nodes: 1\n",
      "Number of edges: 1\n"
     ]
    }
   ],
   "source": [
    "for i in range(len(components)):\n",
    "    print(i)\n",
    "    print(\"Number of nodes:\", components[i].number_of_nodes())\n",
    "    print(\"Number of edges:\", components[i].number_of_edges())"
   ]
  },
  {
   "cell_type": "markdown",
   "metadata": {},
   "source": [
    "### Поняли, что нас интересует только первая компонента, где есть Категория:Всё"
   ]
  },
  {
   "cell_type": "code",
   "execution_count": 65,
   "metadata": {},
   "outputs": [
    {
     "name": "stdout",
     "output_type": "stream",
     "text": [
      "16350\n",
      "7938\n"
     ]
    }
   ],
   "source": [
    "root = 0\n",
    "for id, title in categories_id_dict.items():\n",
    "    if title == 'Категория:Всё':\n",
    "        print(id)\n",
    "        root = id\n",
    "        break\n",
    "        \n",
    "for id, title in categories_id_dict.items():\n",
    "    if title == 'Категория:Википедия:Служебные':\n",
    "        print(id)\n",
    "        components[0].remove_node(id)\n",
    "        break"
   ]
  },
  {
   "cell_type": "code",
   "execution_count": 66,
   "metadata": {
    "collapsed": true
   },
   "outputs": [],
   "source": [
    "class BuldTaxonomy():\n",
    "    def __init__(self, graph, root):\n",
    "        self.original_graph = graph\n",
    "        self.output_graph = nx.DiGraph()\n",
    "        self.stack = [root]\n",
    "        \n",
    "    '''\n",
    "    def build_graph_recursive(self, node):\n",
    "        successors = list(self.original_graph.successors(node))\n",
    "        if len(successors) == 0:\n",
    "            return\n",
    "        else:\n",
    "            for pred in successors:\n",
    "                self.output_graph.add_edge(node, succ)\n",
    "                self.buld_graph_recursive(succ)\n",
    "    '''\n",
    "    \n",
    "    def build_graph(self):\n",
    "        while self.stack:\n",
    "            node = self.stack.pop()\n",
    "            successors = list(self.original_graph.successors(node))\n",
    "            for succ in successors:\n",
    "                self.output_graph.add_edge(node, succ)\n",
    "                self.stack.append(succ)   "
   ]
  },
  {
   "cell_type": "code",
   "execution_count": 67,
   "metadata": {},
   "outputs": [
    {
     "ename": "KeyboardInterrupt",
     "evalue": "",
     "output_type": "error",
     "traceback": [
      "\u001b[1;31m---------------------------------------------------------------------------\u001b[0m",
      "\u001b[1;31mKeyboardInterrupt\u001b[0m                         Traceback (most recent call last)",
      "\u001b[1;32m<ipython-input-67-643c8ead5818>\u001b[0m in \u001b[0;36m<module>\u001b[1;34m()\u001b[0m\n\u001b[0;32m      1\u001b[0m \u001b[0mtaxonomy\u001b[0m \u001b[1;33m=\u001b[0m \u001b[0mBuldTaxonomy\u001b[0m\u001b[1;33m(\u001b[0m\u001b[0mcomponents\u001b[0m\u001b[1;33m[\u001b[0m\u001b[1;36m0\u001b[0m\u001b[1;33m]\u001b[0m\u001b[1;33m,\u001b[0m \u001b[0mroot\u001b[0m\u001b[1;33m)\u001b[0m\u001b[1;33m\u001b[0m\u001b[0m\n\u001b[1;32m----> 2\u001b[1;33m \u001b[0mtaxonomy\u001b[0m\u001b[1;33m.\u001b[0m\u001b[0mbuild_graph\u001b[0m\u001b[1;33m(\u001b[0m\u001b[1;33m)\u001b[0m\u001b[1;33m\u001b[0m\u001b[0m\n\u001b[0m\u001b[0;32m      3\u001b[0m \u001b[0mcat_graph\u001b[0m \u001b[1;33m=\u001b[0m \u001b[0mtaxonomy\u001b[0m\u001b[1;33m.\u001b[0m\u001b[0moutput_graph\u001b[0m\u001b[1;33m\u001b[0m\u001b[0m\n\u001b[0;32m      4\u001b[0m \u001b[1;33m\u001b[0m\u001b[0m\n\u001b[0;32m      5\u001b[0m \u001b[0mprint\u001b[0m\u001b[1;33m(\u001b[0m\u001b[1;34m\"Number of nodes:\"\u001b[0m\u001b[1;33m,\u001b[0m \u001b[0mcat_graph\u001b[0m\u001b[1;33m.\u001b[0m\u001b[0mnumber_of_nodes\u001b[0m\u001b[1;33m(\u001b[0m\u001b[1;33m)\u001b[0m\u001b[1;33m)\u001b[0m\u001b[1;33m\u001b[0m\u001b[0m\n",
      "\u001b[1;32m<ipython-input-66-6694edd2360d>\u001b[0m in \u001b[0;36mbuild_graph\u001b[1;34m(self)\u001b[0m\n\u001b[0;32m     20\u001b[0m             \u001b[0mnode\u001b[0m \u001b[1;33m=\u001b[0m \u001b[0mself\u001b[0m\u001b[1;33m.\u001b[0m\u001b[0mstack\u001b[0m\u001b[1;33m.\u001b[0m\u001b[0mpop\u001b[0m\u001b[1;33m(\u001b[0m\u001b[1;33m)\u001b[0m\u001b[1;33m\u001b[0m\u001b[0m\n\u001b[0;32m     21\u001b[0m             \u001b[0msuccessors\u001b[0m \u001b[1;33m=\u001b[0m \u001b[0mlist\u001b[0m\u001b[1;33m(\u001b[0m\u001b[0mself\u001b[0m\u001b[1;33m.\u001b[0m\u001b[0moriginal_graph\u001b[0m\u001b[1;33m.\u001b[0m\u001b[0msuccessors\u001b[0m\u001b[1;33m(\u001b[0m\u001b[0mnode\u001b[0m\u001b[1;33m)\u001b[0m\u001b[1;33m)\u001b[0m\u001b[1;33m\u001b[0m\u001b[0m\n\u001b[1;32m---> 22\u001b[1;33m             \u001b[1;32mfor\u001b[0m \u001b[0msucc\u001b[0m \u001b[1;32min\u001b[0m \u001b[0msuccessors\u001b[0m\u001b[1;33m:\u001b[0m\u001b[1;33m\u001b[0m\u001b[0m\n\u001b[0m\u001b[0;32m     23\u001b[0m                 \u001b[0mself\u001b[0m\u001b[1;33m.\u001b[0m\u001b[0moutput_graph\u001b[0m\u001b[1;33m.\u001b[0m\u001b[0madd_edge\u001b[0m\u001b[1;33m(\u001b[0m\u001b[0mnode\u001b[0m\u001b[1;33m,\u001b[0m \u001b[0msucc\u001b[0m\u001b[1;33m)\u001b[0m\u001b[1;33m\u001b[0m\u001b[0m\n\u001b[0;32m     24\u001b[0m                 \u001b[0mself\u001b[0m\u001b[1;33m.\u001b[0m\u001b[0mstack\u001b[0m\u001b[1;33m.\u001b[0m\u001b[0mappend\u001b[0m\u001b[1;33m(\u001b[0m\u001b[0msucc\u001b[0m\u001b[1;33m)\u001b[0m\u001b[1;33m\u001b[0m\u001b[0m\n",
      "\u001b[1;31mKeyboardInterrupt\u001b[0m: "
     ]
    }
   ],
   "source": [
    "taxonomy = BuldTaxonomy(components[0], root)\n",
    "taxonomy.build_graph()\n",
    "cat_graph = taxonomy.output_graph\n",
    "\n",
    "print(\"Number of nodes:\", cat_graph.number_of_nodes())\n",
    "print(\"Number of edges:\", cat_graph.number_of_edges())"
   ]
  },
  {
   "cell_type": "markdown",
   "metadata": {},
   "source": [
    "## Собственно, анализ"
   ]
  },
  {
   "cell_type": "code",
   "execution_count": 19,
   "metadata": {},
   "outputs": [
    {
     "name": "stdout",
     "output_type": "stream",
     "text": [
      "['AA', 'AB', 'AD', 'AE']\n"
     ]
    }
   ],
   "source": [
    "path = listdir('c')\n",
    "path = sorted(path)\n",
    "path = path[:4]\n",
    "print(path)\n",
    "\n",
    "data = []\n",
    "for p in path:\n",
    "    with jsonlines.open('c/' + p, 'r') as f:\n",
    "        for entry in f:\n",
    "            data.append(entry)"
   ]
  },
  {
   "cell_type": "code",
   "execution_count": 20,
   "metadata": {},
   "outputs": [
    {
     "name": "stderr",
     "output_type": "stream",
     "text": [
      "100%|██████████████████████████████████████████████████████████████████████████| 35669/35669 [00:13<00:00, 2581.66it/s]\n"
     ]
    },
    {
     "data": {
      "text/plain": [
       "4781"
      ]
     },
     "execution_count": 20,
     "metadata": {},
     "output_type": "execute_result"
    }
   ],
   "source": [
    "categories_y = [d['categories'] for d in data]\n",
    "categories = sorted(set(list(itertools.chain(*categories_y))))\n",
    "\n",
    "categories_dict = {c: 0 for c in categories}\n",
    "for d in data:\n",
    "    for c in d['categories']:\n",
    "        if categories_dict.get(c) is not None:\n",
    "            categories_dict[c] += 1\n",
    "            \n",
    "ok = [c for c in categories if categories_dict[c] > 5 and categories_dict[c] < 5000]\n",
    "categories_y = [[c for c in cy if c in ok] for cy in tqdm(categories_y)]\n",
    "len(ok)"
   ]
  },
  {
   "cell_type": "code",
   "execution_count": 21,
   "metadata": {
    "collapsed": true
   },
   "outputs": [],
   "source": [
    "y = MultiLabelBinarizer().fit_transform(categories_y)"
   ]
  },
  {
   "cell_type": "code",
   "execution_count": 24,
   "metadata": {},
   "outputs": [
    {
     "name": "stderr",
     "output_type": "stream",
     "text": [
      "  0%|                                                                                        | 0/35669 [00:00<?, ?it/s]\n"
     ]
    },
    {
     "ename": "NameError",
     "evalue": "name 'tknzr' is not defined",
     "output_type": "error",
     "traceback": [
      "\u001b[1;31m---------------------------------------------------------------------------\u001b[0m",
      "\u001b[1;31mNameError\u001b[0m                                 Traceback (most recent call last)",
      "\u001b[1;32m<ipython-input-24-19838b7cb371>\u001b[0m in \u001b[0;36m<module>\u001b[1;34m()\u001b[0m\n\u001b[0;32m      5\u001b[0m     \u001b[0mtext\u001b[0m \u001b[1;33m=\u001b[0m \u001b[0mre\u001b[0m\u001b[1;33m.\u001b[0m\u001b[0msub\u001b[0m\u001b[1;33m(\u001b[0m\u001b[1;34mr'\\n+'\u001b[0m\u001b[1;33m,\u001b[0m \u001b[1;34m'. '\u001b[0m\u001b[1;33m,\u001b[0m \u001b[0md\u001b[0m\u001b[1;33m[\u001b[0m\u001b[1;34m'text'\u001b[0m\u001b[1;33m]\u001b[0m\u001b[1;33m)\u001b[0m\u001b[1;33m\u001b[0m\u001b[0m\n\u001b[0;32m      6\u001b[0m     \u001b[0mtext\u001b[0m \u001b[1;33m=\u001b[0m \u001b[0mre\u001b[0m\u001b[1;33m.\u001b[0m\u001b[0msub\u001b[0m\u001b[1;33m(\u001b[0m\u001b[1;34mr'\\xa0'\u001b[0m\u001b[1;33m,\u001b[0m \u001b[1;34m' '\u001b[0m\u001b[1;33m,\u001b[0m \u001b[0mtext\u001b[0m\u001b[1;33m)\u001b[0m\u001b[1;33m\u001b[0m\u001b[0m\n\u001b[1;32m----> 7\u001b[1;33m     \u001b[0mtokens\u001b[0m \u001b[1;33m=\u001b[0m \u001b[0mtknzr\u001b[0m\u001b[1;33m.\u001b[0m\u001b[0mtokenize\u001b[0m\u001b[1;33m(\u001b[0m\u001b[0mtext\u001b[0m\u001b[1;33m=\u001b[0m\u001b[0mtext\u001b[0m\u001b[1;33m)\u001b[0m\u001b[1;33m\u001b[0m\u001b[0m\n\u001b[0m\u001b[0;32m      8\u001b[0m     \u001b[0mtokens\u001b[0m \u001b[1;33m=\u001b[0m \u001b[1;33m[\u001b[0m\u001b[0mt\u001b[0m\u001b[1;33m.\u001b[0m\u001b[0mlower\u001b[0m\u001b[1;33m(\u001b[0m\u001b[1;33m)\u001b[0m \u001b[1;32mfor\u001b[0m \u001b[0mt\u001b[0m \u001b[1;32min\u001b[0m \u001b[0mtokens\u001b[0m\u001b[1;33m]\u001b[0m     \u001b[1;31m#  if t.isalnum()\u001b[0m\u001b[1;33m\u001b[0m\u001b[0m\n\u001b[0;32m      9\u001b[0m     \u001b[0mtext\u001b[0m \u001b[1;33m=\u001b[0m \u001b[1;34m' '\u001b[0m\u001b[1;33m.\u001b[0m\u001b[0mjoin\u001b[0m\u001b[1;33m(\u001b[0m\u001b[0mtokens\u001b[0m\u001b[1;33m)\u001b[0m\u001b[1;33m\u001b[0m\u001b[0m\n",
      "\u001b[1;31mNameError\u001b[0m: name 'tknzr' is not defined"
     ]
    }
   ],
   "source": [
    "words = []\n",
    "texts = []\n",
    "for d in tqdm(data):\n",
    "\n",
    "    text = re.sub(r'\\n+', '. ', d['text'])\n",
    "    text = re.sub(r'\\xa0', ' ', text)\n",
    "    tokens = tknzr.tokenize(text=text)\n",
    "    tokens = [t.lower() for t in tokens]     #  if t.isalnum()\n",
    "    text = ' '.join(tokens)\n",
    "    texts.append(text)\n",
    "    words.extend(sorted(set([t for t in tokens if t.isalpha()])))\n",
    "\n",
    "words = sorted(set(words))"
   ]
  },
  {
   "cell_type": "code",
   "execution_count": null,
   "metadata": {
    "collapsed": true
   },
   "outputs": [],
   "source": [
    "normal_forms = {}\n",
    "for w in tqdm(words):\n",
    "    nf = morph.parse(w)[0].normal_form\n",
    "    normal_forms[w] = nf"
   ]
  },
  {
   "cell_type": "code",
   "execution_count": null,
   "metadata": {
    "collapsed": true
   },
   "outputs": [],
   "source": [
    "for i in trange(texts):\n",
    "    text = texts[i]\n",
    "    tokens = re.split(r' ', text)\n",
    "    tokens = [normal_forms.get(t) for t in tokens if normal_forms.get(t) is not None]\n",
    "    text = ' '.join(tokens)\n",
    "    texts[i] = text\n"
   ]
  },
  {
   "cell_type": "markdown",
   "metadata": {},
   "source": [
    "## Черновик\n",
    ".\n",
    "\n",
    ".\n",
    "\n",
    "."
   ]
  },
  {
   "cell_type": "code",
   "execution_count": 53,
   "metadata": {},
   "outputs": [
    {
     "name": "stdout",
     "output_type": "stream",
     "text": [
      "['B']\n",
      "[('A', 'B'), ('B', 'C')]\n"
     ]
    },
    {
     "data": {
      "image/png": "[encoded data removed]",
      "text/plain": [
       "<matplotlib.figure.Figure at 0x246b22e89e8>"
      ]
     },
     "metadata": {},
     "output_type": "display_data"
    }
   ],
   "source": [
    "import matplotlib.pyplot as plt\n",
    "G = nx.DiGraph()\n",
    "G.add_edges_from([('A','B'), ('B','C')])\n",
    "\n",
    "print(list(G.predecessors('C')))\n",
    "print(G.edges())\n",
    "\n",
    "val_map = {'A': 1.0,\n",
    "           'B': 0.5714285714285714,\n",
    "           'C': 0.0}\n",
    "\n",
    "values = [val_map.get(node, 0.25) for node in G.nodes()]\n",
    "\n",
    "pos = nx.spring_layout(G)\n",
    "nx.draw_networkx_nodes(G, pos, cmap=plt.get_cmap('jet'), \n",
    "                       node_color = values, node_size = 500)\n",
    "nx.draw_networkx_labels(G, pos)\n",
    "nx.draw_networkx_edges(G, pos, arrows=True)\n",
    "plt.show()"
   ]
  },
  {
   "cell_type": "code",
   "execution_count": 58,
   "metadata": {},
   "outputs": [
    {
     "name": "stdout",
     "output_type": "stream",
     "text": [
      "4\n",
      "2\n",
      "1\n"
     ]
    }
   ],
   "source": [
    "a = [1, 2, 4]\n",
    "while a:\n",
    "    print(a.pop())"
   ]
  },
  {
   "cell_type": "code",
   "execution_count": null,
   "metadata": {
    "collapsed": true
   },
   "outputs": [],
   "source": []
  }
 ],
 "metadata": {
  "kernelspec": {
   "display_name": "Python 3",
   "language": "python",
   "name": "python3"
  },
  "language_info": {
   "codemirror_mode": {
    "name": "ipython",
    "version": 3
   },
   "file_extension": ".py",
   "mimetype": "text/x-python",
   "name": "python",
   "nbconvert_exporter": "python",
   "pygments_lexer": "ipython3",
   "version": "3.6.3"
  }
 },
 "nbformat": 4,
 "nbformat_minor": 2
}
