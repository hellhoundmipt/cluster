{
 "cells": [
  {
   "cell_type": "markdown",
   "metadata": {},
   "source": [
    "# Создаём и редактируем дерево категорий"
   ]
  },
  {
   "cell_type": "code",
   "execution_count": 1,
   "metadata": {},
   "outputs": [],
   "source": [
    "from os import listdir\n",
    "import jsonlines\n",
    "import itertools\n",
    "from tqdm import tqdm\n",
    "from tqdm import trange\n",
    "import re\n",
    "import nltk\n",
    "import networkx as nx\n",
    "import re\n",
    "import matplotlib.pyplot as plt\n",
    "from collections import Counter\n",
    "from mediawiki import MediaWiki\n",
    "from mediawiki import PageError\n",
    "from mediawiki import MediaWikiCategoryTreeError\n",
    "from os import sys\n",
    "from time import sleep\n",
    "\n",
    "wiki = MediaWiki(url='http://ru.wikipedia.org/w/api.php')\n",
    "tknzr = nltk.TweetTokenizer()\n",
    "#nltk.download()"
   ]
  },
  {
   "cell_type": "markdown",
   "metadata": {},
   "source": [
    "## Достаём связи между категориями\n",
    "(node_2_id) $\\rightarrow$ (node_1_id)"
   ]
  },
  {
   "cell_type": "code",
   "execution_count": 2,
   "metadata": {},
   "outputs": [
    {
     "name": "stderr",
     "output_type": "stream",
     "text": [
      "719813it [00:05, 130669.33it/s]\n"
     ]
    }
   ],
   "source": [
    "links = [link for link in tqdm(jsonlines.open('links/link_directed.txt', 'r'))]"
   ]
  },
  {
   "cell_type": "code",
   "execution_count": 3,
   "metadata": {},
   "outputs": [
    {
     "name": "stderr",
     "output_type": "stream",
     "text": [
      "100%|██████████████████████████████████████████████████████████████████████| 719813/719813 [00:04<00:00, 176647.99it/s]\n"
     ]
    }
   ],
   "source": [
    "categories_id_dict = {}\n",
    "for link in tqdm(links):\n",
    "    categories_id_dict[str(link['node_1_id'])] = re.sub(r'^Категория:', '', link['node_1_title'])\n",
    "    categories_id_dict[str(link['node_2_id'])] = re.sub(r'^Категория:', '', link['node_2_title'])"
   ]
  },
  {
   "cell_type": "code",
   "execution_count": 4,
   "metadata": {
    "scrolled": true
   },
   "outputs": [
    {
     "name": "stdout",
     "output_type": "stream",
     "text": [
      "Number of nodes: 344614\n",
      "Number of edges: 719389\n",
      "Is it a forest? False\n",
      "Connected components: 58\n"
     ]
    }
   ],
   "source": [
    "categories_forest = nx.DiGraph()\n",
    "categories_forest.add_edges_from([(str(link['node_2_id']), str(link['node_1_id'])) for link in links])\n",
    "\n",
    "print(\"Number of nodes:\", categories_forest.number_of_nodes())\n",
    "print(\"Number of edges:\", categories_forest.number_of_edges())\n",
    "print(\"Is it a forest?\", nx.is_forest(categories_forest))\n",
    "print(\"Connected components:\", nx.number_weakly_connected_components(categories_forest))"
   ]
  },
  {
   "cell_type": "code",
   "execution_count": 5,
   "metadata": {},
   "outputs": [],
   "source": [
    "components = list(nx.weakly_connected_component_subgraphs(categories_forest))"
   ]
  },
  {
   "cell_type": "code",
   "execution_count": 6,
   "metadata": {
    "scrolled": true
   },
   "outputs": [
    {
     "name": "stdout",
     "output_type": "stream",
     "text": [
      "['Статьи проекта Екатеринбург по важности', 'Статьи проекта Театр III уровня', 'Русские коллаборационисты с нацистской Германией', 'Статьи проекта Хоррор II уровня', 'Статьи проекта Удмуртия низкой важности', 'Статьи проекта Подводные лодки по уровню', 'Статьи проекта Эволюционная биология по важности', 'Википедия:Страницы на КПМ по типам', 'Незавершённые статьи о подвижном составе', 'Статьи проекта Современное искусство по уровню', 'Статьи проекта Немецкий футбол по уровню', 'Статьи проекта Грузия по важности', 'Статьи проекта Самара по важности', 'Статьи проекта Театр средней важности', 'Статьи проекта Харьков по уровню', 'Статьи проекта Ленин по важности', 'Статьи проекта Ракетное оружие по важности', 'Хорошие статьи по проектам', 'Незавершённые статьи о сооружениях', 'Статьи проекта Английский футбол по важности', 'Статьи проекта Югра по важности', 'Википедия:Страницы на КУЛ по странам', 'Статьи проекта Крейсера по уровню', 'Статьи проекта Шашки по уровню', 'Статьи проекта Анатомия высшей важности', 'Статьи проекта Казахстан по качеству', 'Статьи проекта Омск по уровню и важности', 'Статьи проекта:Месяц Азии по участникам', 'Википедия:Переименованные категории со статьями', 'Статьи проекта Химия по важности', 'Статьи проекта Компьютерные игры по уровню', 'Статьи проекта Удмуртия средней важности', 'Статьи проекта Математика по уровню', 'Статьи проекта Генеалогия по уровню', 'Статьи проекта Фашизм по важности', 'Статьи проекта Православие по важности', 'Статьи проекта Ирландия по уровню', 'Статьи проекта Эволюционная биология по уровню', 'Википедия:Страницы на КУЛ по типам', 'Незавершённые статьи о вооруженных силах Третьего рейха', 'Статьи проекта Удмуртия неизвестного уровня', 'Статьи проекта Шахматы по уровню', 'Статьи проекта Триатлон по важности', 'Статьи проекта Речное пароходство по важности', 'Статьи проекта Пермский край по качеству', 'Статьи проекта Военная история I уровня', 'Статьи проекта Омск по важности', 'Статьи проекта Ирландия по важности', 'Статьи проекта Музыка по уровню', 'Статьи проекта Ислам по уровню', 'Статьи проекта Трансформеры по важности', 'Статьи проекта Литва по уровню', 'Статьи проекта Польша по уровню', 'Всё', 'Статьи проекта Норвегия по уровню', 'Статьи проекта Тюменская область по важности', 'Статьи проекта Снукер по уровню', 'Википедия:Статьи с утверждениями без источников', 'Статьи проекта Кино по качеству и важности', 'Списки проекта Чехия', 'Википедия:Статьи с сомнительной значимостью по давности', 'Статьи проекта Свердловская область по важности', 'Статьи проекта Математика по важности', 'Статьи проекта Конопля по качеству', 'Избранные статьи по проектам', 'Статьи проекта Искусство неизвестного уровня', 'Статьи проекта Территории с нечётким правовым статусом по уровню', 'Статьи проекта Европейский союз по уровню', 'Статьи проекта Цитология по уровню', 'Статьи проекта Искусство неизвестной важности', 'Статьи проекта Химия по уровню', 'Статьи проекта Фармация по важности', 'Статьи проекта Антарктика низкой важности', 'Статьи проекта Крейсера по важности', 'Статьи проекта Шахматы по важности', 'Избранные списки проекта Строительство', 'Статьи проекта Филателия и почта неизвестной важности', 'Статьи проекта Генеалогия по важности', 'Статьи проекта Триатлон по уровню', 'Статьи проекта Удмуртия III уровня', 'Статьи проекта Уэльс по уровню', 'Статьи проекта Футбол по уровню', 'Статьи проекта Физиология по важности', 'Википедия:Статьи без источников по странам', 'Статьи проекта Гражданская война в США по важности', 'Статьи проекта Снукер по важности', 'Кандидаты в статьи года по годам', 'Статьи проекта Физика по уровню', 'Википедия:Статьи о железнодорожной инфраструктуре без указанных географических координат', 'Статьи проекта Европейский союз по важности', 'Статьи проекта Геральдика по важности', 'Статьи проекта Социология неизвестной важности', 'Статьи проекта Русский рок', 'Футбол в Арубе ', 'Статьи проекта Греция низкой важности', 'Статьи проекта Кино по важности', 'Статьи проекта Немецкий футбол по важности', 'Статьи проекта Мода по уровню', 'Статьи проекта Удмуртия неизвестной важности', 'Статьи проекта Спорт по уровню', 'Статьи проекта Компьютерные игры по важности', 'Статьи проекта Удмуртия II уровня', 'Статьи проекта Удмуртия высокой важности', 'Статьи проекта Канада по уровню', 'Статьи проекта Неакадемические исследования по важности', 'Персонажи «Эры зверей»', 'Статьи с утверждениями без цитаты', 'Статьи проекта Речное пароходство по уровню', 'Статьи проекта Санкт-Петербург по качеству', 'Статьи проекта Теннис по уровню', 'Статьи проекта Ленин по уровню', 'Статьи проекта Настольные игры по уровню', 'Статьи проекта Хоккей с мячом по уровню', 'Википедия:Проблемы с шаблонами', 'Хорошие статьи проекта Экономика', 'Статьи проекта Фармация по уровню', 'Википедия:Площади без указанных географических координат', 'Статьи проекта Удмуртия I уровня', 'Списки проекта Медицина', 'Статьи проекта Православие по уровню', 'Статьи проекта Белгородская область низкой важности', 'Статьи проекта Омск по уровню', 'Статьи проекта Свидетели Иеговы по уровню', 'Статьи проекта Гражданская война в США по уровню', 'Статьи проекта Чехия по уровню', 'Статьи проекта Литва по важности', 'Статьи проекта Канада по важности', 'Статьи проекта Анатомия неизвестной важности', 'Статьи проекта Шашки по важности', 'Инкубатор, Статьи по значимости', 'Статьи проекта Греция высокой важности', 'Статьи проекта Анатомия высокой важности', 'Статьи проекта Грузия по уровню', 'Статьи проекта Уэльс по важности', 'Статьи проекта Числа по уровню', 'Статьи проекта ЛГБТ по уровню', 'Статьи проекта Известные картины по важности', 'Статьи проекта Ростов-на-Дону по уровню', 'Википедия:Перевод', 'Хорошие статьи проекта Филателия и почта', 'Статьи проекта Крым по важности', 'Статьи проекта Казахстан по важности', 'Статьи проекта Самара по уровню', 'Статьи проекта Удмуртия IV уровня', 'Статьи проекта Крым по уровню', 'Статьи проекта Франция по уровню', 'Статьи проекта Числа по важности', 'Википедия:Статьи с некорректным использованием шаблонов', 'Статьи проекта Сексология по важности', 'Статьи проекта Комиксы по уровню', 'Статьи проекта Филателия и почта неизвестного уровня', 'Статьи проекта Свердловская область по уровню', 'Статьи проекта Свидетели Иеговы по важности', 'Статьи проекта ЛГБТ по важности', 'Статьи проекта Трансформеры по уровню', 'Статьи проекта История России III уровня', 'Списки проекта Русский рок', 'Статьи проекта Феминизм II уровня', 'Статьи проекта Подводные лодки по важности', 'Статьи проекта Кино по уровню', 'Статьи проекта Ислам по важности', 'Статьи проекта Ракетное оружие по уровню', 'Статьи проекта Феминизм высокой важности', 'Статьи проекта Антарктика высшей важности', 'Статьи проекта Польша по важности', 'Статьи проекта Мода по важности', 'Списки проекта СССР', 'Статьи проекта Феминизм средней важности', 'Статьи проекта Физиология по уровню', 'Хорошие статьи проекта Русский рок', 'Википедия:Координационные списки проектов', 'Статьи проекта Территории с нечётким правовым статусом по качеству', 'Статьи проекта Пермский край по уровню', 'Статьи проекта Наука по уровню', 'Статьи проекта Теннис по важности', 'Статьи проекта Хоккей с мячом по важности', 'Википедия:Страницы на КПМ по странам', 'Статьи проекта Украина по важности', 'Статьи проекта Франция по важности', 'Статьи проекта Удмуртия высшей важности', 'Хорошие статьи проекта Удмуртия', 'Статьи проекта Современное искусство по важности', 'Статьи проекта Тюменская область по уровню и важности', 'Статьи проекта Медицина по важности', 'Статьи проекта Сербия низкой важности', 'Статьи проекта Украина по уровню', 'Статьи проекта Сексология по уровню', 'Статьи проекта Известные картины по уровню', 'Статьи проекта Комиксы по важности', 'Статьи проекта Исландия по уровню', 'Статьи проекта Наука по качеству', 'Статьи проекта Фашизм по уровню', 'Списки проекта Россия', 'Статьи проекта Дания неизвестной важности', 'Статьи проекта Ростов-на-Дону по важности', 'Статьи проекта Настольные игры по важности', 'Статьи проекта Геральдика по уровню', 'Статьи проекта Нагорно-Карабахская Республика по важности', 'Статьи проекта Югра по уровню', 'Википедия:Водные объекты без указанных географических координат', 'Статьи проекта Футбол по важности']"
     ]
    },
    {
     "name": "stdout",
     "output_type": "stream",
     "text": [
      "\n",
      "['Статьи проекта Россия II уровня']\n",
      "['Статьи проекта Наука по качеству и важности']\n",
      "['Статьи проекта История России неизвестного уровня']\n",
      "['Статьи проекта Русский рок I уровня']\n",
      "['Статьи проекта Дания II уровня']\n",
      "['Статьи проекта Монголия низкой важности']\n",
      "['Статьи проекта История России I уровня']\n",
      "[]\n",
      "[]\n",
      "[]\n",
      "[]\n",
      "[]\n",
      "[]\n",
      "[]\n",
      "[]\n",
      "[]\n",
      "[]\n",
      "[]\n",
      "[]\n",
      "[]\n",
      "[]\n",
      "[]\n",
      "[]\n",
      "[]\n",
      "[]\n",
      "['Хорошие статьи проекта История России']\n",
      "['Избранные статьи проекта История России']\n",
      "['Статьи проекта Военная история II уровня']\n",
      "[]\n",
      "[]\n",
      "[]\n",
      "[]\n",
      "[]\n",
      "[]\n",
      "[]\n",
      "[]\n",
      "[]\n",
      "['Статьи проекта Антарктика II уровня']\n",
      "['Статьи проекта Антарктика III уровня']\n",
      "[]\n",
      "[]\n",
      "[]\n",
      "[]\n",
      "[]\n",
      "[]\n",
      "[]\n",
      "[]\n",
      "[]\n",
      "[]\n",
      "[]\n",
      "[]\n",
      "[]\n",
      "[]\n",
      "[]\n",
      "[]\n",
      "[]\n",
      "[]\n"
     ]
    }
   ],
   "source": [
    "for c in components:\n",
    "    roots = []\n",
    "    for node in list(c.nodes()):\n",
    "        if len(list(c.predecessors(node))) == 0:\n",
    "            roots.append(node)\n",
    "            \n",
    "    print([categories_id_dict[root] for root in roots])\n",
    "            "
   ]
  },
  {
   "cell_type": "code",
   "execution_count": 7,
   "metadata": {},
   "outputs": [
    {
     "name": "stdout",
     "output_type": "stream",
     "text": [
      "0\n",
      "Number of nodes: 344531\n",
      "Number of edges: 719318\n",
      "1\n",
      "Number of nodes: 6\n",
      "Number of edges: 5\n",
      "2\n",
      "Number of nodes: 2\n",
      "Number of edges: 1\n",
      "3\n",
      "Number of nodes: 4\n",
      "Number of edges: 3\n",
      "4\n",
      "Number of nodes: 4\n",
      "Number of edges: 3\n",
      "5\n",
      "Number of nodes: 2\n",
      "Number of edges: 1\n",
      "6\n",
      "Number of nodes: 2\n",
      "Number of edges: 1\n",
      "7\n",
      "Number of nodes: 4\n",
      "Number of edges: 3\n",
      "8\n",
      "Number of nodes: 1\n",
      "Number of edges: 1\n",
      "9\n",
      "Number of nodes: 1\n",
      "Number of edges: 1\n",
      "10\n",
      "Number of nodes: 1\n",
      "Number of edges: 1\n",
      "11\n",
      "Number of nodes: 1\n",
      "Number of edges: 1\n",
      "12\n",
      "Number of nodes: 1\n",
      "Number of edges: 1\n",
      "13\n",
      "Number of nodes: 1\n",
      "Number of edges: 1\n",
      "14\n",
      "Number of nodes: 1\n",
      "Number of edges: 1\n",
      "15\n",
      "Number of nodes: 1\n",
      "Number of edges: 1\n",
      "16\n",
      "Number of nodes: 1\n",
      "Number of edges: 1\n",
      "17\n",
      "Number of nodes: 1\n",
      "Number of edges: 1\n",
      "18\n",
      "Number of nodes: 1\n",
      "Number of edges: 1\n",
      "19\n",
      "Number of nodes: 1\n",
      "Number of edges: 1\n",
      "20\n",
      "Number of nodes: 1\n",
      "Number of edges: 1\n",
      "21\n",
      "Number of nodes: 1\n",
      "Number of edges: 1\n",
      "22\n",
      "Number of nodes: 2\n",
      "Number of edges: 2\n",
      "23\n",
      "Number of nodes: 1\n",
      "Number of edges: 1\n",
      "24\n",
      "Number of nodes: 1\n",
      "Number of edges: 1\n",
      "25\n",
      "Number of nodes: 1\n",
      "Number of edges: 1\n",
      "26\n",
      "Number of nodes: 3\n",
      "Number of edges: 2\n",
      "27\n",
      "Number of nodes: 2\n",
      "Number of edges: 1\n",
      "28\n",
      "Number of nodes: 3\n",
      "Number of edges: 2\n",
      "29\n",
      "Number of nodes: 1\n",
      "Number of edges: 1\n",
      "30\n",
      "Number of nodes: 1\n",
      "Number of edges: 1\n",
      "31\n",
      "Number of nodes: 1\n",
      "Number of edges: 1\n",
      "32\n",
      "Number of nodes: 1\n",
      "Number of edges: 1\n",
      "33\n",
      "Number of nodes: 1\n",
      "Number of edges: 1\n",
      "34\n",
      "Number of nodes: 1\n",
      "Number of edges: 1\n",
      "35\n",
      "Number of nodes: 1\n",
      "Number of edges: 1\n",
      "36\n",
      "Number of nodes: 1\n",
      "Number of edges: 1\n",
      "37\n",
      "Number of nodes: 1\n",
      "Number of edges: 1\n",
      "38\n",
      "Number of nodes: 2\n",
      "Number of edges: 1\n",
      "39\n",
      "Number of nodes: 2\n",
      "Number of edges: 1\n",
      "40\n",
      "Number of nodes: 1\n",
      "Number of edges: 1\n",
      "41\n",
      "Number of nodes: 1\n",
      "Number of edges: 1\n",
      "42\n",
      "Number of nodes: 1\n",
      "Number of edges: 1\n",
      "43\n",
      "Number of nodes: 1\n",
      "Number of edges: 1\n",
      "44\n",
      "Number of nodes: 1\n",
      "Number of edges: 1\n",
      "45\n",
      "Number of nodes: 1\n",
      "Number of edges: 1\n",
      "46\n",
      "Number of nodes: 1\n",
      "Number of edges: 1\n",
      "47\n",
      "Number of nodes: 1\n",
      "Number of edges: 1\n",
      "48\n",
      "Number of nodes: 1\n",
      "Number of edges: 1\n",
      "49\n",
      "Number of nodes: 1\n",
      "Number of edges: 1\n",
      "50\n",
      "Number of nodes: 1\n",
      "Number of edges: 1\n",
      "51\n",
      "Number of nodes: 1\n",
      "Number of edges: 1\n",
      "52\n",
      "Number of nodes: 1\n",
      "Number of edges: 1\n",
      "53\n",
      "Number of nodes: 1\n",
      "Number of edges: 1\n",
      "54\n",
      "Number of nodes: 1\n",
      "Number of edges: 1\n",
      "55\n",
      "Number of nodes: 2\n",
      "Number of edges: 2\n",
      "56\n",
      "Number of nodes: 1\n",
      "Number of edges: 1\n",
      "57\n",
      "Number of nodes: 1\n",
      "Number of edges: 1\n"
     ]
    }
   ],
   "source": [
    "for i in range(len(components)):\n",
    "    print(i)\n",
    "    print(\"Number of nodes:\", components[i].number_of_nodes())\n",
    "    print(\"Number of edges:\", components[i].number_of_edges())"
   ]
  },
  {
   "cell_type": "markdown",
   "metadata": {},
   "source": [
    "### Поняли, что нас интересует только первая компонента, где есть Категория:Всё"
   ]
  },
  {
   "cell_type": "code",
   "execution_count": 18,
   "metadata": {},
   "outputs": [
    {
     "name": "stdout",
     "output_type": "stream",
     "text": [
      "16350\n"
     ]
    }
   ],
   "source": [
    "root = 0\n",
    "def srch_by_ttl(ttl):\n",
    "    for id, title in categories_id_dict.items():\n",
    "        if title == ttl:\n",
    "            print(id)\n",
    "            return id\n",
    "\n",
    "root = srch_by_ttl('Всё')\n",
    "\n",
    "def del_by_ttls(ttls):\n",
    "    for ttl in ttls:\n",
    "        components[0].remove_node(srch_by_ttl(ttl))\n",
    "        \n",
    "   \n",
    "#del_by_ttls(['Википедия:Служебные', 'Скрытые категории'])\n",
    "'''\n",
    "for id, title in categories_id_dict.items():\n",
    "    if title == 'Википедия:Служебные':\n",
    "        print(id)\n",
    "        components[0].remove_node(id)\n",
    "        break'''\n",
    "        \n",
    "srch_by_ttl('Аскеты')"
   ]
  },
  {
   "cell_type": "code",
   "execution_count": 18,
   "metadata": {},
   "outputs": [],
   "source": [
    "class BuldTaxonomy():\n",
    "    def __init__(self, graph, root):\n",
    "        self.original_graph = graph\n",
    "        self.output_graph = nx.DiGraph()\n",
    "        self.stack = [root]\n",
    "        \n",
    "    '''\n",
    "    def build_graph_recursive(self, node):\n",
    "        successors = list(self.original_graph.successors(node))\n",
    "        if len(successors) == 0:\n",
    "            return\n",
    "        else:\n",
    "            for pred in successors:\n",
    "                self.output_graph.add_edge(node, succ)\n",
    "                self.buld_graph_recursive(succ)\n",
    "    '''\n",
    "    \n",
    "    def build_graph(self):\n",
    "        while self.stack:\n",
    "            node = self.stack.pop()\n",
    "            successors = list(self.original_graph.successors(node))\n",
    "            for succ in successors:\n",
    "                if (node, succ) not in self.output_graph.edges():\n",
    "                    self.output_graph.add_edge(node, succ)\n",
    "                    self.stack.append(succ)"
   ]
  },
  {
   "cell_type": "code",
   "execution_count": 20,
   "metadata": {},
   "outputs": [
    {
     "name": "stdout",
     "output_type": "stream",
     "text": [
      "16350\n",
      "Number of nodes: 316892\n",
      "Number of edges: 667517\n",
      "Number of nodes: 316892\n",
      "Number of edges: 316891\n"
     ]
    }
   ],
   "source": [
    "taxonomy = BuldTaxonomy(components[0], srch_by_ttl('Всё'))\n",
    "taxonomy.build_graph()\n",
    "cat_graph = taxonomy.output_graph\n",
    "cat_tree = nx.bfs_tree(components[0], root)\n",
    "\n",
    "\n",
    "print(\"Number of nodes:\", cat_graph.number_of_nodes())\n",
    "print(\"Number of edges:\", cat_graph.number_of_edges())\n",
    "\n",
    "print(\"Number of nodes:\", cat_tree.number_of_nodes())\n",
    "print(\"Number of edges:\", cat_tree.number_of_edges())\n",
    "\n",
    "nx.write_gpickle(cat_graph, 'sources/graph_gpickle.gpickle')\n",
    "nx.write_gpickle(cat_tree, 'sources/tree_gpickle.gpickle')"
   ]
  },
  {
   "cell_type": "code",
   "execution_count": 33,
   "metadata": {},
   "outputs": [
    {
     "name": "stdout",
     "output_type": "stream",
     "text": [
      "16350\n"
     ]
    },
    {
     "data": {
      "text/plain": [
       "Counter({0: 1,\n",
       "         1: 2,\n",
       "         2: 10,\n",
       "         3: 223,\n",
       "         4: 3119,\n",
       "         5: 13939,\n",
       "         6: 60192,\n",
       "         7: 91053,\n",
       "         8: 89664,\n",
       "         9: 43536,\n",
       "         10: 11060,\n",
       "         11: 2634,\n",
       "         12: 888,\n",
       "         13: 300,\n",
       "         14: 206,\n",
       "         15: 37,\n",
       "         16: 24,\n",
       "         17: 4})"
      ]
     },
     "execution_count": 33,
     "metadata": {},
     "output_type": "execute_result"
    }
   ],
   "source": [
    "lengths = nx.single_source_shortest_path_length(cat_graph, srch_by_ttl('Всё'))\n",
    "Counter(lengths.values())"
   ]
  },
  {
   "cell_type": "code",
   "execution_count": 11,
   "metadata": {
    "scrolled": false
   },
   "outputs": [
    {
     "name": "stdout",
     "output_type": "stream",
     "text": [
      "5861034\n"
     ]
    },
    {
     "name": "stderr",
     "output_type": "stream",
     "text": [
      "  0%|                                                                                            | 0/2 [00:00<?, ?it/s]\n"
     ]
    },
    {
     "ename": "NameError",
     "evalue": "name 'cat_graph' is not defined",
     "output_type": "error",
     "traceback": [
      "\u001b[0;31m---------------------------------------------------------------------------\u001b[0m",
      "\u001b[0;31mNameError\u001b[0m                                 Traceback (most recent call last)",
      "\u001b[0;32m<ipython-input-11-ebdb6fd06fec>\u001b[0m in \u001b[0;36m<module>\u001b[0;34m()\u001b[0m\n\u001b[1;32m      7\u001b[0m     \u001b[0mnew_nodes\u001b[0m \u001b[1;33m=\u001b[0m \u001b[1;33m[\u001b[0m\u001b[1;33m]\u001b[0m\u001b[1;33m\u001b[0m\u001b[0m\n\u001b[1;32m      8\u001b[0m     \u001b[1;32mfor\u001b[0m \u001b[0mnode\u001b[0m \u001b[1;32min\u001b[0m \u001b[0mnodes\u001b[0m\u001b[1;33m:\u001b[0m\u001b[1;33m\u001b[0m\u001b[0m\n\u001b[0;32m----> 9\u001b[0;31m         \u001b[0msuccessors\u001b[0m \u001b[1;33m=\u001b[0m \u001b[0mlist\u001b[0m\u001b[1;33m(\u001b[0m\u001b[0mcat_graph\u001b[0m\u001b[1;33m.\u001b[0m\u001b[0msuccessors\u001b[0m\u001b[1;33m(\u001b[0m\u001b[0mnode\u001b[0m\u001b[1;33m)\u001b[0m\u001b[1;33m)\u001b[0m\u001b[1;33m\u001b[0m\u001b[0m\n\u001b[0m\u001b[1;32m     10\u001b[0m         \u001b[0mnew_nodes\u001b[0m\u001b[1;33m.\u001b[0m\u001b[0mextend\u001b[0m\u001b[1;33m(\u001b[0m\u001b[0msuccessors\u001b[0m\u001b[1;33m)\u001b[0m\u001b[1;33m\u001b[0m\u001b[0m\n\u001b[1;32m     11\u001b[0m         \u001b[1;32mfor\u001b[0m \u001b[0msucc\u001b[0m \u001b[1;32min\u001b[0m \u001b[0msuccessors\u001b[0m\u001b[1;33m:\u001b[0m\u001b[1;33m\u001b[0m\u001b[0m\n",
      "\u001b[0;31mNameError\u001b[0m: name 'cat_graph' is not defined"
     ]
    }
   ],
   "source": [
    "%matplotlib notebook\n",
    "\n",
    "# Википедия:Категории, объединённые по внутренним признакам\n",
    "nodes = [srch_by_ttl('Статьи')]\n",
    "lil_graphy = nx.DiGraph()\n",
    "for i in trange(2):\n",
    "    new_nodes = []\n",
    "    for node in nodes:\n",
    "        successors = list(cat_graph.successors(node))\n",
    "        new_nodes.extend(successors)\n",
    "        for succ in successors:\n",
    "            lil_graphy.add_edge(categories_id_dict[node], categories_id_dict[succ])\n",
    "    nodes = new_nodes\n",
    "    \n",
    "print('Nodes:', lil_graphy.number_of_nodes())\n",
    "pos = nx.circular_layout(lil_graphy)\n",
    "nx.draw_networkx_nodes(lil_graphy,pos,node_size=1600, \n",
    "                           alpha=0.3, node_color='red')\n",
    "nx.draw_networkx_edges(lil_graphy,pos,width=1,\n",
    "                           alpha=0.3,edge_color='black')\n",
    "nx.draw_networkx_labels(lil_graphy, pos,font_size=10,\n",
    "                            font_family='sans-serif')\n",
    "nx.draw(lil_graphy, pos)\n",
    "plt.show()"
   ]
  },
  {
   "cell_type": "code",
   "execution_count": null,
   "metadata": {},
   "outputs": [],
   "source": []
  }
 ],
 "metadata": {
  "anaconda-cloud": {},
  "kernelspec": {
   "display_name": "Python 3",
   "language": "python",
   "name": "python3"
  },
  "language_info": {
   "codemirror_mode": {
    "name": "ipython",
    "version": 3
   },
   "file_extension": ".py",
   "mimetype": "text/x-python",
   "name": "python",
   "nbconvert_exporter": "python",
   "pygments_lexer": "ipython3",
   "version": "3.6.4"
  }
 },
 "nbformat": 4,
 "nbformat_minor": 2
}
