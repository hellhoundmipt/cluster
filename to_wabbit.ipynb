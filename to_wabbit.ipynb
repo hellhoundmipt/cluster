{
 "cells": [
  {
   "cell_type": "code",
   "execution_count": 31,
   "metadata": {},
   "outputs": [],
   "source": [
    "import jsonlines\n",
    "from collections import Counter\n",
    "import operator\n",
    "import codecs\n",
    "from tqdm import tqdm"
   ]
  },
  {
   "cell_type": "code",
   "execution_count": 6,
   "metadata": {},
   "outputs": [],
   "source": [
    "texts = [(item['text'], item['id']) for item in jsonlines.open(\"sources/normalized_texts.jl\", 'r')]\n",
    "texts.sort(key=operator.itemgetter(1))"
   ]
  },
  {
   "cell_type": "code",
   "execution_count": 32,
   "metadata": {},
   "outputs": [
    {
     "name": "stderr",
     "output_type": "stream",
     "text": [
      "100%|██████████████████████████████████████████████████████████████████████████| 96794/96794 [00:33<00:00, 2897.28it/s]\n"
     ]
    }
   ],
   "source": [
    "with codecs.open(\"wabbit\", \"w\", encoding='utf-8') as output:\n",
    "    for text in tqdm(texts):\n",
    "        cnt = Counter(text[0].split())\n",
    "        output.write(text[1] + ' ' + ' '.join([item + ':' + str(cnt[item]) for item in cnt]) + '\\n')"
   ]
  },
  {
   "cell_type": "code",
   "execution_count": null,
   "metadata": {},
   "outputs": [],
   "source": []
  }
 ],
 "metadata": {
  "kernelspec": {
   "display_name": "Python 3",
   "language": "python",
   "name": "python3"
  },
  "language_info": {
   "codemirror_mode": {
    "name": "ipython",
    "version": 3
   },
   "file_extension": ".py",
   "mimetype": "text/x-python",
   "name": "python",
   "nbconvert_exporter": "python",
   "pygments_lexer": "ipython3",
   "version": "3.6.4"
  }
 },
 "nbformat": 4,
 "nbformat_minor": 2
}
