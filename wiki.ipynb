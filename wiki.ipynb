{
 "cells": [
  {
   "cell_type": "code",
   "execution_count": 2,
   "metadata": {
    "collapsed": false
   },
   "outputs": [],
   "source": [
    "import json\n",
    "from collections import Counter\n",
    "from functools import reduce\n",
    "import numpy as np\n",
    "import re\n",
    "from os import listdir\n",
    "from os import close\n",
    "import codecs \n",
    "import mediawiki\n",
    "from joblib import Parallel, delayed\n",
    "\n",
    "wikipedia = mediawiki.MediaWiki(lang=u'ru')"
   ]
  },
  {
   "cell_type": "code",
   "execution_count": null,
   "metadata": {
    "collapsed": false
   },
   "outputs": [],
   "source": [
    "path = 'wiki_extracted/'\n",
    "alf = listdir(path)\n",
    "\n",
    "def walker(a):\n",
    "    categories = []\n",
    "    page_ids = []\n",
    "    articles = []\n",
    "    _path = path + a\n",
    "    __path = [_path + '/' + p for p in listdir(_path)]\n",
    "    print(a, end=' ')\n",
    "    for p in __path:\n",
    "        print(p[18:], end=' ')\n",
    "        with codecs.open(p, 'r', 'utf-8-sig') as f:\n",
    "            file = f.read()\n",
    "            file = re.sub(r'\\n+', '. ', file)\n",
    "            file = re.split(r'</doc>', file)\n",
    "            for f in file[:-1]:\n",
    "                id = re.findall(r'id=\"(.*)\" url', f)[0]\n",
    "                try:\n",
    "                    categories.extend(wikipedia.page(pageid=int(id)).categories)\n",
    "                    page_ids.append(int(id))\n",
    "                    articles.append(re.findall(r'\">\\. (.*)', f)[0])\n",
    "                except KeyboardInterrupt:\n",
    "                    close()\n",
    "                except:\n",
    "                    print(\"Page with id \" + str(id) + \" not found\")\n",
    "    \n",
    "    return categories, page_ids, articles\n",
    "\n",
    "categories, page_ids, articles = Parallel(n_jobs=4)(delayed(walker)(a) for a in alf)"
   ]
  },
  {
   "cell_type": "code",
   "execution_count": null,
   "metadata": {
    "collapsed": true
   },
   "outputs": [],
   "source": [
    "#with open('output.json') as f:\n",
    "    #info = json.load(f)\n",
    "    #print(len(info))\n",
    "    #categories = [i[\"categories\"] for i in info]\n",
    "    #categories = reduce(lambda x,y:x+y, categories)\n",
    "categories = [c[10:] for c in categories]\n",
    "print(sorted(set([c for c in categories if re.findall(r'.* /d/d/d/d .*', c)])))\n",
    "counts = Counter(categories)\n",
    "print(np.mean(list(counts.values())))\n",
    "print(counts)"
   ]
  }
 ],
 "metadata": {
  "anaconda-cloud": {},
  "kernelspec": {
   "display_name": "Python [conda root]",
   "language": "python",
   "name": "conda-root-py"
  },
  "language_info": {
   "codemirror_mode": {
    "name": "ipython",
    "version": 3
   },
   "file_extension": ".py",
   "mimetype": "text/x-python",
   "name": "python",
   "nbconvert_exporter": "python",
   "pygments_lexer": "ipython3",
   "version": "3.5.2"
  }
 },
 "nbformat": 4,
 "nbformat_minor": 1
}
