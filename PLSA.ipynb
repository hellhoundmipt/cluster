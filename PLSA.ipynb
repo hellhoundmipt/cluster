{
 "cells": [
  {
   "cell_type": "code",
   "execution_count": 1,
   "metadata": {},
   "outputs": [],
   "source": [
    "import artm\n",
    "import jsonlines\n",
    "import operator\n",
    "import codecs\n",
    "from collections import Counter\n",
    "from tqdm import tqdm\n",
    "\n",
    "import os\n",
    "os.environ['ARTM_SHARED_LIBRARY']='C:/BigARTM/bin/artm.dll'"
   ]
  },
  {
   "cell_type": "markdown",
   "metadata": {},
   "source": [
    "# Перобразовать в wabbit формат, если ещё не"
   ]
  },
  {
   "cell_type": "code",
   "execution_count": null,
   "metadata": {},
   "outputs": [],
   "source": [
    "texts = [(item['text'], item['id']) for item in jsonlines.open(\"sources/normalized_texts.jl\", 'r')]\n",
    "texts.sort(key=operator.itemgetter(1))"
   ]
  },
  {
   "cell_type": "code",
   "execution_count": null,
   "metadata": {},
   "outputs": [],
   "source": [
    "with codecs.open(\"wabbit\", \"w\", encoding='utf-8') as output:\n",
    "    for text in tqdm(texts):\n",
    "        cnt = Counter(text[0].split())\n",
    "        output.write(text[1] + ' ' + ' '.join([item + ':' + str(cnt[item]) for item in cnt]) + '\\n')"
   ]
  },
  {
   "cell_type": "markdown",
   "metadata": {},
   "source": [
    "# Применяем ARTM"
   ]
  },
  {
   "cell_type": "code",
   "execution_count": 2,
   "metadata": {},
   "outputs": [
    {
     "data": {
      "text/plain": [
       "14697"
      ]
     },
     "execution_count": 2,
     "metadata": {},
     "output_type": "execute_result"
    }
   ],
   "source": [
    "num_topics = len([line for line in codecs.open(\"sources/accepted_categories.txt\", \"r\", encoding='utf-8')])\n",
    "num_topics"
   ]
  },
  {
   "cell_type": "code",
   "execution_count": 3,
   "metadata": {},
   "outputs": [
    {
     "data": {
      "text/plain": [
       "\"batch_vectorizer = artm.BatchVectorizer(data_format='bow_n_wd',\\n                                        n_wd=n_wd,\\n                                        vocabulary=vocabulary,\\n                                        target_folder='my_collection_batches')\""
      ]
     },
     "execution_count": 3,
     "metadata": {},
     "output_type": "execute_result"
    }
   ],
   "source": [
    "batch_vectorizer = artm.BatchVectorizer(data_path='wabbit',\n",
    "                                        data_format='vowpal_wabbit',\n",
    "                                        target_folder='my_collection_batches')\n",
    "\n",
    "'''batch_vectorizer = artm.BatchVectorizer(data_format='bow_n_wd',\n",
    "                                        n_wd=n_wd,\n",
    "                                        vocabulary=vocabulary,\n",
    "                                        target_folder='my_collection_batches')'''"
   ]
  },
  {
   "cell_type": "code",
   "execution_count": null,
   "metadata": {},
   "outputs": [],
   "source": [
    "dictionary = artm.Dictionary()\n",
    "dictionary.gather(data_path='my_collection_batches')"
   ]
  },
  {
   "cell_type": "code",
   "execution_count": null,
   "metadata": {},
   "outputs": [],
   "source": [
    "model = artm.ARTM(num_topics=num_topics, dictionary=dictionary,\n",
    "                  show_progress_bars=True,\n",
    "                  regularizers=[artm.DecorrelatorPhiRegularizer(name='decorrelator_phi_regularizer')])"
   ]
  },
  {
   "cell_type": "code",
   "execution_count": null,
   "metadata": {},
   "outputs": [],
   "source": [
    "model.scores.add(artm.PerplexityScore(name='my_fisrt_perplexity_score',\n",
    "                                      dictionary=dictionary))"
   ]
  },
  {
   "cell_type": "code",
   "execution_count": null,
   "metadata": {},
   "outputs": [],
   "source": [
    "model.fit_offline(batch_vectorizer=batch_vectorizer, num_collection_passes=10)"
   ]
  },
  {
   "cell_type": "code",
   "execution_count": 15,
   "metadata": {},
   "outputs": [
    {
     "name": "stdout",
     "output_type": "stream",
     "text": [
      "[16.69302749633789, 10.504449844360352, 10.16703987121582, 10.024514198303223, 9.9529447555542, 9.906949996948242, 9.850658416748047, 9.806109428405762, 9.779677391052246, 9.762627601623535]\n"
     ]
    }
   ],
   "source": [
    "print(model.score_tracker['my_fisrt_perplexity_score'].value)"
   ]
  },
  {
   "cell_type": "code",
   "execution_count": 24,
   "metadata": {},
   "outputs": [
    {
     "data": {
      "text/plain": [
       "(array([[1.38047524e-02, 1.68282873e-04],\n",
       "        [2.10436134e-04, 1.44476116e-01],\n",
       "        [3.01596433e-01, 1.86692656e-03],\n",
       "        [1.02518834e-01, 8.19944319e-07],\n",
       "        [8.82437676e-02, 7.78485229e-03],\n",
       "        [2.56709231e-04, 1.44798368e-01],\n",
       "        [7.41048716e-04, 7.43682906e-02],\n",
       "        [2.20018649e-07, 3.40052545e-01],\n",
       "        [8.29713270e-02, 2.54379091e-04],\n",
       "        [1.68291315e-01, 3.20942164e-03],\n",
       "        [2.67181949e-05, 3.39664705e-02],\n",
       "        [9.69519260e-06, 1.63328439e-01],\n",
       "        [1.24874704e-01, 2.84956805e-05],\n",
       "        [1.08825387e-02, 1.29033893e-07],\n",
       "        [3.62287238e-02, 8.64593370e-04],\n",
       "        [3.29797752e-02, 5.61207905e-02],\n",
       "        [1.57055985e-02, 7.27119058e-08],\n",
       "        [5.22775099e-06, 2.87109166e-02],\n",
       "        [1.53344609e-02, 2.07113402e-07],\n",
       "        [5.31766843e-03, 4.60314133e-13]], dtype=float32),\n",
       " ['al',\n",
       "  'antoninus',\n",
       "  'aim',\n",
       "  'adium',\n",
       "  'allowed',\n",
       "  'allows',\n",
       "  'and',\n",
       "  'anonymous',\n",
       "  'android',\n",
       "  'ah',\n",
       "  'apache',\n",
       "  'altavista',\n",
       "  'adaptive',\n",
       "  'access',\n",
       "  'aol',\n",
       "  'aelius',\n",
       "  'acceptable',\n",
       "  'acl',\n",
       "  'aac',\n",
       "  'abr'],\n",
       " ['topic_0', 'topic_1'])"
      ]
     },
     "execution_count": 24,
     "metadata": {},
     "output_type": "execute_result"
    }
   ],
   "source": [
    "model.get_phi_dense()"
   ]
  },
  {
   "cell_type": "code",
   "execution_count": 23,
   "metadata": {},
   "outputs": [
    {
     "data": {
      "text/plain": [
       "0.9999999539841724"
      ]
     },
     "execution_count": 23,
     "metadata": {},
     "output_type": "execute_result"
    }
   ],
   "source": [
    "sum([t[0] for t in p[0]])"
   ]
  },
  {
   "cell_type": "code",
   "execution_count": 9,
   "metadata": {},
   "outputs": [
    {
     "ename": "NameError",
     "evalue": "name 'model' is not defined",
     "output_type": "error",
     "traceback": [
      "\u001b[1;31m---------------------------------------------------------------------------\u001b[0m",
      "\u001b[1;31mNameError\u001b[0m                                 Traceback (most recent call last)",
      "\u001b[1;32m<ipython-input-9-30acdcf75b99>\u001b[0m in \u001b[0;36m<module>\u001b[1;34m()\u001b[0m\n\u001b[1;32m----> 1\u001b[1;33m \u001b[0mmodel\u001b[0m\u001b[1;33m.\u001b[0m\u001b[0minitialize\u001b[0m\u001b[1;33m(\u001b[0m\u001b[0mdictionary\u001b[0m\u001b[1;33m=\u001b[0m\u001b[0mdictionary\u001b[0m\u001b[1;33m)\u001b[0m\u001b[1;33m\u001b[0m\u001b[0m\n\u001b[0m",
      "\u001b[1;31mNameError\u001b[0m: name 'model' is not defined"
     ]
    }
   ],
   "source": [
    "model.initialize(dictionary=dictionary)"
   ]
  },
  {
   "cell_type": "code",
   "execution_count": null,
   "metadata": {},
   "outputs": [],
   "source": []
  }
 ],
 "metadata": {
  "kernelspec": {
   "display_name": "Python 3",
   "language": "python",
   "name": "python3"
  },
  "language_info": {
   "codemirror_mode": {
    "name": "ipython",
    "version": 3
   },
   "file_extension": ".py",
   "mimetype": "text/x-python",
   "name": "python",
   "nbconvert_exporter": "python",
   "pygments_lexer": "ipython3",
   "version": "3.6.4"
  }
 },
 "nbformat": 4,
 "nbformat_minor": 2
}
