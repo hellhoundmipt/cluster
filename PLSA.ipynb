{
 "cells": [
  {
   "cell_type": "code",
   "execution_count": 1,
   "metadata": {},
   "outputs": [],
   "source": [
    "import artm\n",
    "import jsonlines\n",
    "import operator\n",
    "import codecs\n",
    "from collections import Counter\n",
    "from tqdm import tqdm\n",
    "from scipy.sparse import save_npz\n",
    "import pandas as pd\n",
    "from sklearn.feature_extraction.text import CountVectorizer\n",
    "import logging\n",
    "import numpy as np\n",
    "import json\n",
    "\n",
    "import os\n",
    "os.environ['ARTM_SHARED_LIBRARY']='C:/BigARTM/bin/artm.dll'"
   ]
  },
  {
   "cell_type": "code",
   "execution_count": 4,
   "metadata": {},
   "outputs": [],
   "source": [
    "texts = {item['id']: item['text'] for item in jsonlines.open(\"sources/normalized_texts.jl\", 'r')}\n",
    "#texts.sort(key=operator.itemgetter(1))"
   ]
  },
  {
   "cell_type": "markdown",
   "metadata": {},
   "source": [
    "# Перобразовать в wabbit формат, если ещё не"
   ]
  },
  {
   "cell_type": "code",
   "execution_count": 17,
   "metadata": {},
   "outputs": [
    {
     "name": "stderr",
     "output_type": "stream",
     "text": [
      "100%|██████████████████████████████████████████████████████████████████████████| 96794/96794 [00:21<00:00, 4504.95it/s]\n"
     ]
    }
   ],
   "source": [
    "with codecs.open(\"wabbit\", \"w\", encoding='utf-8') as output:\n",
    "    for text in tqdm(texts):\n",
    "        cnt = Counter(texts[text].split())\n",
    "        line = '\\'' + text + ' |@words ' + ' '.join([item + (':' + str(cnt[item]) if cnt[item] != 1 else '') for item in cnt])\n",
    "        line += '\\n'\n",
    "        output.write(line)\n",
    "\n",
    "texts.clear()"
   ]
  },
  {
   "cell_type": "markdown",
   "metadata": {},
   "source": [
    "# Преобразовать в UCI формат, если ещё не"
   ]
  },
  {
   "cell_type": "code",
   "execution_count": 6,
   "metadata": {},
   "outputs": [],
   "source": [
    "class BagOfWordsModel(object):\n",
    "    OUT_FOLDER = 'out'\n",
    "\n",
    "    def __init__(self, id_document_dict, max_features=None, max_df=1.0):\n",
    "        \"\"\"Builds bow model.\n",
    "        Args:\n",
    "            id_document_dict: ids of documents and theirs contents in format\n",
    "                \"{id: 'text', ...}\"\n",
    "            max_features: If not None, build a vocabulary that only consider the top\n",
    "                max_features ordered by term frequency across the corpus.\n",
    "                This parameter is ignored if vocabulary is not None.\n",
    "            max_df: When building the vocabulary ignore terms that have a\n",
    "                document frequency strictly higher than the given threshold\n",
    "                (corpus-specific stop words). If float, the parameter\n",
    "                represents a proportion of documents, integer absolute counts.\n",
    "                This parameter is ignored if vocabulary is not None.\n",
    "        \"\"\"\n",
    "        self.logger = logging.getLogger(__name__)\n",
    "        self.logger.info(\n",
    "            \"Building bag-of-words model with max_features={0}, max_df={1}\".format(\n",
    "                max_features, max_df))\n",
    "        self.logger.info(\"Size of data set: \" + str(len(id_document_dict)))\n",
    "\n",
    "        if len(id_document_dict) != 0:\n",
    "            self.logger.info(\"Building pandas dataframe\")\n",
    "            df = pd.DataFrame.from_dict(data=id_document_dict, orient='index')\n",
    "            self.logger.info(\"Built pandas dataframe\")\n",
    "            ids = df.index\n",
    "            self.index2id = dict(enumerate(ids))\n",
    "            self.id2index = {v: k for k, v in self.index2id.items()}\n",
    "            documents_corpus = df[0].values  # 1-dim np.array.\n",
    "            # documents_corpus = documents_corpus.astype(unicode)\n",
    "            del df\n",
    "            if max_features is None:\n",
    "                self.logger.info(\n",
    "                    \"Training CountVectorizer with all {0} features\".format(\n",
    "                        len(ids)))\n",
    "            else:\n",
    "                self.logger.info(\n",
    "                    \"Training CountVectorizer with max {0} features\".format(\n",
    "                        max_features))\n",
    "            vectorizer = CountVectorizer(max_features=max_features,\n",
    "                                         max_df=max_df,\n",
    "                                         stop_words='english').fit(\n",
    "                documents_corpus)\n",
    "            self.logger.info(\"Trained vectorizer with {0} features\".format(\n",
    "                len(vectorizer.get_feature_names())))\n",
    "            self.logger.info(\"Building bag-of-words model\")\n",
    "            bow = vectorizer.transform(documents_corpus)\n",
    "            self.logger.info(\"Done\")\n",
    "\n",
    "            self.url_ids = ids\n",
    "            self.bow_sparse_matrix = bow\n",
    "            self.feature_names = vectorizer.get_feature_names()  # mapping from url_id to url\n",
    "            self.vocabulary = vectorizer.vocabulary_  # mapping from url to url_id\n",
    "            self.shape = self.bow_sparse_matrix.shape\n",
    "\n",
    "    def get_index(self, doc_id):\n",
    "        return self.id2index[doc_id]\n",
    "\n",
    "    def get_doc_id(self, index):\n",
    "        return self.index2id[index]\n",
    "\n",
    "    def get_feature_id(self, feature_name):\n",
    "        return self.vocabulary.get(feature_name)\n",
    "\n",
    "    def get_feature_name(self, feature_id):\n",
    "        return self.feature_names[feature_id]\n",
    "\n",
    "    def toarray(self):\n",
    "        return self.bow_sparse_matrix.toarray()\n",
    "\n",
    "    def to_uci(self, model_name='bow', save_folder=OUT_FOLDER):\n",
    "        import os.path\n",
    "        import codecs\n",
    "        if self.bow_sparse_matrix is None:\n",
    "            self.logger.error(\"Model is None.\")\n",
    "            return\n",
    "        if not os.path.exists(save_folder):\n",
    "            os.makedirs(save_folder)\n",
    "        filenames = model_name\n",
    "        docword_name = os.path.join(save_folder,\n",
    "                                    'docword.' + filenames + '.txt')\n",
    "        vocab_name = os.path.join(save_folder, 'vocab.' + filenames + '.txt')\n",
    "        with codecs.open(docword_name, 'w', encoding='utf-8') as docword_f, \\\n",
    "                codecs.open(vocab_name, 'w', encoding='utf-8') as vocab_f:\n",
    "            urls_count = self.shape[0]\n",
    "            words_count = self.shape[1]\n",
    "            # Fill vocab_f file\n",
    "            self.logger.info(\"Start filling {0}\".format(vocab_name))\n",
    "            print(\"Start filling {0}\".format(vocab_name))\n",
    "            for i in range(words_count):\n",
    "                vocab_f.write(self.get_feature_name(i) + '\\n')\n",
    "            self.logger.info(\"Done.\")\n",
    "            print(\"Done\")\n",
    "            # Fill docword_f file\n",
    "            self.logger.info(\"Start filling {0}\".format(docword_name))\n",
    "            print(\"Start filling {0}\".format(docword_name))\n",
    "            docword_f.write(str(urls_count) + '\\n')\n",
    "            docword_f.write(str(words_count) + '\\n')\n",
    "            docword_f.write(str(self.bow_sparse_matrix.nnz) + '\\n')\n",
    "            # nnz_position = docword_f.tell() # We fill this line later with nnz_counter.\n",
    "            # nnz_counter = 0 # The number of nonzero counts in the bag-of-words.\n",
    "            nnz_x, nnz_y = self.bow_sparse_matrix.nonzero()\n",
    "            for x, y in tqdm(zip(nnz_x, nnz_y), total=len(nnz_x)):\n",
    "                # nnz_counter += len(url_sparse_vector)\n",
    "                docword_f.write(str(x + 1) + ' ' + str(y + 1) + ' ' + str(\n",
    "                    self.bow_sparse_matrix[x, y]) + '\\n')\n",
    "            self.logger.info(\"Done.\")\n",
    "            print(\"Done\")"
   ]
  },
  {
   "cell_type": "code",
   "execution_count": 7,
   "metadata": {},
   "outputs": [
    {
     "name": "stdout",
     "output_type": "stream",
     "text": [
      "Start filling out\\vocab.bow.txt\n",
      "Done\n",
      "Start filling out\\docword.bow.txt\n"
     ]
    },
    {
     "name": "stderr",
     "output_type": "stream",
     "text": [
      "100%|███████████████████████████████████████████████████████████████████| 19420712/19420712 [13:29<00:00, 23986.31it/s]\n"
     ]
    },
    {
     "name": "stdout",
     "output_type": "stream",
     "text": [
      "Done\n"
     ]
    }
   ],
   "source": [
    "bow = BagOfWordsModel(texts)\n",
    "bow.to_uci()"
   ]
  },
  {
   "cell_type": "markdown",
   "metadata": {},
   "source": [
    "# Применяем ARTM"
   ]
  },
  {
   "cell_type": "code",
   "execution_count": 2,
   "metadata": {},
   "outputs": [],
   "source": [
    "num_topics = len([line for line in codecs.open(\"sources/accepted_categories.txt\", \"r\", encoding='utf-8')])\n",
    "num_topics = 1000"
   ]
  },
  {
   "cell_type": "code",
   "execution_count": 3,
   "metadata": {},
   "outputs": [],
   "source": [
    "'''batch_vectorizer = artm.BatchVectorizer(data_path='out/',\n",
    "                                        data_format='bow_uci',\n",
    "                                        collection_name='nu_collection',\n",
    "                                        target_folder='nu_collection_batches')'''\n",
    "\n",
    "'''batch_vectorizer = artm.BatchVectorizer(data_path='wabbit',\n",
    "                                        data_format='vowpal_wabbit',\n",
    "                                        target_folder='my_collection_batches')'''\n",
    "\n",
    "batch_vectorizer = artm.BatchVectorizer(data_format='batches',\n",
    "                                        data_path='nu_collection_batches')"
   ]
  },
  {
   "cell_type": "code",
   "execution_count": 4,
   "metadata": {},
   "outputs": [],
   "source": [
    "dictionary = artm.Dictionary()\n",
    "dictionary.gather(data_path='nu_collection_batches')\n",
    "#dictionary.gather(data_path='my_collection_batches')"
   ]
  },
  {
   "cell_type": "code",
   "execution_count": 5,
   "metadata": {},
   "outputs": [],
   "source": [
    "model = artm.ARTM(num_topics=num_topics, dictionary=dictionary,\n",
    "                  show_progress_bars=True,\n",
    "                  cache_theta=True,\n",
    "                  regularizers=[artm.DecorrelatorPhiRegularizer(name='decorrelator_phi_regularizer'),\n",
    "                               artm.SmoothSparseThetaRegularizer(name='smooth_sparce', tau=-0.15)])"
   ]
  },
  {
   "cell_type": "code",
   "execution_count": 6,
   "metadata": {},
   "outputs": [],
   "source": [
    "model.scores.add(artm.PerplexityScore(name='perplexity_score',\n",
    "                                      dictionary=dictionary))\n",
    "model.scores.add(artm.SparsityPhiScore(name='sparcity_score',\n",
    "                                       eps=1.0e-10))"
   ]
  },
  {
   "cell_type": "code",
   "execution_count": 7,
   "metadata": {},
   "outputs": [
    {
     "data": {
      "application/vnd.jupyter.widget-view+json": {
       "model_id": "ff1c94852d0f4322af7aa661480b4b31",
       "version_major": 2,
       "version_minor": 0
      },
      "text/html": [
       "<p>Failed to display Jupyter Widget of type <code>HBox</code>.</p>\n",
       "<p>\n",
       "  If you're reading this message in the Jupyter Notebook or JupyterLab Notebook, it may mean\n",
       "  that the widgets JavaScript is still loading. If this message persists, it\n",
       "  likely means that the widgets JavaScript library is either not installed or\n",
       "  not enabled. See the <a href=\"https://ipywidgets.readthedocs.io/en/stable/user_install.html\">Jupyter\n",
       "  Widgets Documentation</a> for setup instructions.\n",
       "</p>\n",
       "<p>\n",
       "  If you're reading this message in another frontend (for example, a static\n",
       "  rendering on GitHub or <a href=\"https://nbviewer.jupyter.org/\">NBViewer</a>),\n",
       "  it may mean that your frontend doesn't currently support widgets.\n",
       "</p>\n"
      ],
      "text/plain": [
       "HBox(children=(IntProgress(value=0, description='Pass', max=10), HTML(value='')))"
      ]
     },
     "metadata": {},
     "output_type": "display_data"
    },
    {
     "data": {
      "application/vnd.jupyter.widget-view+json": {
       "model_id": "3a72a4eb37144c90a1e284d95f6bc926",
       "version_major": 2,
       "version_minor": 0
      },
      "text/html": [
       "<p>Failed to display Jupyter Widget of type <code>HBox</code>.</p>\n",
       "<p>\n",
       "  If you're reading this message in the Jupyter Notebook or JupyterLab Notebook, it may mean\n",
       "  that the widgets JavaScript is still loading. If this message persists, it\n",
       "  likely means that the widgets JavaScript library is either not installed or\n",
       "  not enabled. See the <a href=\"https://ipywidgets.readthedocs.io/en/stable/user_install.html\">Jupyter\n",
       "  Widgets Documentation</a> for setup instructions.\n",
       "</p>\n",
       "<p>\n",
       "  If you're reading this message in another frontend (for example, a static\n",
       "  rendering on GitHub or <a href=\"https://nbviewer.jupyter.org/\">NBViewer</a>),\n",
       "  it may mean that your frontend doesn't currently support widgets.\n",
       "</p>\n"
      ],
      "text/plain": [
       "HBox(children=(IntProgress(value=0, description='Batch', max=97), HTML(value='')))"
      ]
     },
     "metadata": {},
     "output_type": "display_data"
    },
    {
     "data": {
      "application/vnd.jupyter.widget-view+json": {
       "model_id": "34649c69e1fb43c1ac3fee323ad7762b",
       "version_major": 2,
       "version_minor": 0
      },
      "text/html": [
       "<p>Failed to display Jupyter Widget of type <code>HBox</code>.</p>\n",
       "<p>\n",
       "  If you're reading this message in the Jupyter Notebook or JupyterLab Notebook, it may mean\n",
       "  that the widgets JavaScript is still loading. If this message persists, it\n",
       "  likely means that the widgets JavaScript library is either not installed or\n",
       "  not enabled. See the <a href=\"https://ipywidgets.readthedocs.io/en/stable/user_install.html\">Jupyter\n",
       "  Widgets Documentation</a> for setup instructions.\n",
       "</p>\n",
       "<p>\n",
       "  If you're reading this message in another frontend (for example, a static\n",
       "  rendering on GitHub or <a href=\"https://nbviewer.jupyter.org/\">NBViewer</a>),\n",
       "  it may mean that your frontend doesn't currently support widgets.\n",
       "</p>\n"
      ],
      "text/plain": [
       "HBox(children=(IntProgress(value=0, description='Batch', max=97), HTML(value='')))"
      ]
     },
     "metadata": {},
     "output_type": "display_data"
    },
    {
     "data": {
      "application/vnd.jupyter.widget-view+json": {
       "model_id": "e4d6431ef8b940298cb8713e15cceb7b",
       "version_major": 2,
       "version_minor": 0
      },
      "text/html": [
       "<p>Failed to display Jupyter Widget of type <code>HBox</code>.</p>\n",
       "<p>\n",
       "  If you're reading this message in the Jupyter Notebook or JupyterLab Notebook, it may mean\n",
       "  that the widgets JavaScript is still loading. If this message persists, it\n",
       "  likely means that the widgets JavaScript library is either not installed or\n",
       "  not enabled. See the <a href=\"https://ipywidgets.readthedocs.io/en/stable/user_install.html\">Jupyter\n",
       "  Widgets Documentation</a> for setup instructions.\n",
       "</p>\n",
       "<p>\n",
       "  If you're reading this message in another frontend (for example, a static\n",
       "  rendering on GitHub or <a href=\"https://nbviewer.jupyter.org/\">NBViewer</a>),\n",
       "  it may mean that your frontend doesn't currently support widgets.\n",
       "</p>\n"
      ],
      "text/plain": [
       "HBox(children=(IntProgress(value=0, description='Batch', max=97), HTML(value='')))"
      ]
     },
     "metadata": {},
     "output_type": "display_data"
    },
    {
     "data": {
      "application/vnd.jupyter.widget-view+json": {
       "model_id": "f6e6f1ba77614a43a1f52c0eefbc49b6",
       "version_major": 2,
       "version_minor": 0
      },
      "text/html": [
       "<p>Failed to display Jupyter Widget of type <code>HBox</code>.</p>\n",
       "<p>\n",
       "  If you're reading this message in the Jupyter Notebook or JupyterLab Notebook, it may mean\n",
       "  that the widgets JavaScript is still loading. If this message persists, it\n",
       "  likely means that the widgets JavaScript library is either not installed or\n",
       "  not enabled. See the <a href=\"https://ipywidgets.readthedocs.io/en/stable/user_install.html\">Jupyter\n",
       "  Widgets Documentation</a> for setup instructions.\n",
       "</p>\n",
       "<p>\n",
       "  If you're reading this message in another frontend (for example, a static\n",
       "  rendering on GitHub or <a href=\"https://nbviewer.jupyter.org/\">NBViewer</a>),\n",
       "  it may mean that your frontend doesn't currently support widgets.\n",
       "</p>\n"
      ],
      "text/plain": [
       "HBox(children=(IntProgress(value=0, description='Batch', max=97), HTML(value='')))"
      ]
     },
     "metadata": {},
     "output_type": "display_data"
    },
    {
     "data": {
      "application/vnd.jupyter.widget-view+json": {
       "model_id": "da2a331c03ce4c37938a01822b3ef6bf",
       "version_major": 2,
       "version_minor": 0
      },
      "text/html": [
       "<p>Failed to display Jupyter Widget of type <code>HBox</code>.</p>\n",
       "<p>\n",
       "  If you're reading this message in the Jupyter Notebook or JupyterLab Notebook, it may mean\n",
       "  that the widgets JavaScript is still loading. If this message persists, it\n",
       "  likely means that the widgets JavaScript library is either not installed or\n",
       "  not enabled. See the <a href=\"https://ipywidgets.readthedocs.io/en/stable/user_install.html\">Jupyter\n",
       "  Widgets Documentation</a> for setup instructions.\n",
       "</p>\n",
       "<p>\n",
       "  If you're reading this message in another frontend (for example, a static\n",
       "  rendering on GitHub or <a href=\"https://nbviewer.jupyter.org/\">NBViewer</a>),\n",
       "  it may mean that your frontend doesn't currently support widgets.\n",
       "</p>\n"
      ],
      "text/plain": [
       "HBox(children=(IntProgress(value=0, description='Batch', max=97), HTML(value='')))"
      ]
     },
     "metadata": {},
     "output_type": "display_data"
    },
    {
     "data": {
      "application/vnd.jupyter.widget-view+json": {
       "model_id": "24e36a81872447c68466bd02b7a91f98",
       "version_major": 2,
       "version_minor": 0
      },
      "text/html": [
       "<p>Failed to display Jupyter Widget of type <code>HBox</code>.</p>\n",
       "<p>\n",
       "  If you're reading this message in the Jupyter Notebook or JupyterLab Notebook, it may mean\n",
       "  that the widgets JavaScript is still loading. If this message persists, it\n",
       "  likely means that the widgets JavaScript library is either not installed or\n",
       "  not enabled. See the <a href=\"https://ipywidgets.readthedocs.io/en/stable/user_install.html\">Jupyter\n",
       "  Widgets Documentation</a> for setup instructions.\n",
       "</p>\n",
       "<p>\n",
       "  If you're reading this message in another frontend (for example, a static\n",
       "  rendering on GitHub or <a href=\"https://nbviewer.jupyter.org/\">NBViewer</a>),\n",
       "  it may mean that your frontend doesn't currently support widgets.\n",
       "</p>\n"
      ],
      "text/plain": [
       "HBox(children=(IntProgress(value=0, description='Batch', max=97), HTML(value='')))"
      ]
     },
     "metadata": {},
     "output_type": "display_data"
    },
    {
     "ename": "KeyboardInterrupt",
     "evalue": "",
     "output_type": "error",
     "traceback": [
      "\u001b[1;31m---------------------------------------------------------------------------\u001b[0m",
      "\u001b[1;31mKeyboardInterrupt\u001b[0m                         Traceback (most recent call last)",
      "\u001b[1;32m<ipython-input-7-71d4d5fc00c5>\u001b[0m in \u001b[0;36m<module>\u001b[1;34m()\u001b[0m\n\u001b[1;32m----> 1\u001b[1;33m \u001b[0mmodel\u001b[0m\u001b[1;33m.\u001b[0m\u001b[0mfit_offline\u001b[0m\u001b[1;33m(\u001b[0m\u001b[0mbatch_vectorizer\u001b[0m\u001b[1;33m=\u001b[0m\u001b[0mbatch_vectorizer\u001b[0m\u001b[1;33m,\u001b[0m \u001b[0mnum_collection_passes\u001b[0m\u001b[1;33m=\u001b[0m\u001b[1;36m10\u001b[0m\u001b[1;33m)\u001b[0m\u001b[1;33m\u001b[0m\u001b[0m\n\u001b[0m",
      "\u001b[1;32mC:\\BigARTM\\Python\\artm\\artm_model.py\u001b[0m in \u001b[0;36mfit_offline\u001b[1;34m(self, batch_vectorizer, num_collection_passes)\u001b[0m\n\u001b[0;32m    518\u001b[0m                                            args=(batch_vectorizer.batches_ids,\n\u001b[0;32m    519\u001b[0m                                                  batch_vectorizer.weights, 1, None)),\n\u001b[1;32m--> 520\u001b[1;33m                     batch_vectorizer.num_batches)\n\u001b[0m\u001b[0;32m    521\u001b[0m \u001b[1;33m\u001b[0m\u001b[0m\n\u001b[0;32m    522\u001b[0m                 \u001b[1;32mfor\u001b[0m \u001b[0mname\u001b[0m \u001b[1;32min\u001b[0m \u001b[0mself\u001b[0m\u001b[1;33m.\u001b[0m\u001b[0mscores\u001b[0m\u001b[1;33m.\u001b[0m\u001b[0mdata\u001b[0m\u001b[1;33m.\u001b[0m\u001b[0mkeys\u001b[0m\u001b[1;33m(\u001b[0m\u001b[1;33m)\u001b[0m\u001b[1;33m:\u001b[0m\u001b[1;33m\u001b[0m\u001b[0m\n",
      "\u001b[1;32mC:\\BigARTM\\Python\\artm\\artm_model.py\u001b[0m in \u001b[0;36m_wait_for_batches_processed\u001b[1;34m(self, async_result, num_batches)\u001b[0m\n\u001b[0;32m    480\u001b[0m                 \u001b[0mprevious_num_batches\u001b[0m \u001b[1;33m=\u001b[0m \u001b[1;36m0\u001b[0m\u001b[1;33m\u001b[0m\u001b[0m\n\u001b[0;32m    481\u001b[0m                 \u001b[1;32mwhile\u001b[0m \u001b[1;32mnot\u001b[0m \u001b[0masync_result\u001b[0m\u001b[1;33m.\u001b[0m\u001b[0mready\u001b[0m\u001b[1;33m(\u001b[0m\u001b[1;33m)\u001b[0m\u001b[1;33m:\u001b[0m\u001b[1;33m\u001b[0m\u001b[0m\n\u001b[1;32m--> 482\u001b[1;33m                     \u001b[0masync_result\u001b[0m\u001b[1;33m.\u001b[0m\u001b[0mwait\u001b[0m\u001b[1;33m(\u001b[0m\u001b[1;36m1\u001b[0m\u001b[1;33m)\u001b[0m\u001b[1;33m\u001b[0m\u001b[0m\n\u001b[0m\u001b[0;32m    483\u001b[0m                     current_num_batches = self.master.get_score(\n\u001b[0;32m    484\u001b[0m                         score_name='^^^ItemsProcessedScore^^^').num_batches\n",
      "\u001b[1;32m~\\Anaconda3\\lib\\multiprocessing\\pool.py\u001b[0m in \u001b[0;36mwait\u001b[1;34m(self, timeout)\u001b[0m\n\u001b[0;32m    633\u001b[0m \u001b[1;33m\u001b[0m\u001b[0m\n\u001b[0;32m    634\u001b[0m     \u001b[1;32mdef\u001b[0m \u001b[0mwait\u001b[0m\u001b[1;33m(\u001b[0m\u001b[0mself\u001b[0m\u001b[1;33m,\u001b[0m \u001b[0mtimeout\u001b[0m\u001b[1;33m=\u001b[0m\u001b[1;32mNone\u001b[0m\u001b[1;33m)\u001b[0m\u001b[1;33m:\u001b[0m\u001b[1;33m\u001b[0m\u001b[0m\n\u001b[1;32m--> 635\u001b[1;33m         \u001b[0mself\u001b[0m\u001b[1;33m.\u001b[0m\u001b[0m_event\u001b[0m\u001b[1;33m.\u001b[0m\u001b[0mwait\u001b[0m\u001b[1;33m(\u001b[0m\u001b[0mtimeout\u001b[0m\u001b[1;33m)\u001b[0m\u001b[1;33m\u001b[0m\u001b[0m\n\u001b[0m\u001b[0;32m    636\u001b[0m \u001b[1;33m\u001b[0m\u001b[0m\n\u001b[0;32m    637\u001b[0m     \u001b[1;32mdef\u001b[0m \u001b[0mget\u001b[0m\u001b[1;33m(\u001b[0m\u001b[0mself\u001b[0m\u001b[1;33m,\u001b[0m \u001b[0mtimeout\u001b[0m\u001b[1;33m=\u001b[0m\u001b[1;32mNone\u001b[0m\u001b[1;33m)\u001b[0m\u001b[1;33m:\u001b[0m\u001b[1;33m\u001b[0m\u001b[0m\n",
      "\u001b[1;32m~\\Anaconda3\\lib\\threading.py\u001b[0m in \u001b[0;36mwait\u001b[1;34m(self, timeout)\u001b[0m\n\u001b[0;32m    549\u001b[0m             \u001b[0msignaled\u001b[0m \u001b[1;33m=\u001b[0m \u001b[0mself\u001b[0m\u001b[1;33m.\u001b[0m\u001b[0m_flag\u001b[0m\u001b[1;33m\u001b[0m\u001b[0m\n\u001b[0;32m    550\u001b[0m             \u001b[1;32mif\u001b[0m \u001b[1;32mnot\u001b[0m \u001b[0msignaled\u001b[0m\u001b[1;33m:\u001b[0m\u001b[1;33m\u001b[0m\u001b[0m\n\u001b[1;32m--> 551\u001b[1;33m                 \u001b[0msignaled\u001b[0m \u001b[1;33m=\u001b[0m \u001b[0mself\u001b[0m\u001b[1;33m.\u001b[0m\u001b[0m_cond\u001b[0m\u001b[1;33m.\u001b[0m\u001b[0mwait\u001b[0m\u001b[1;33m(\u001b[0m\u001b[0mtimeout\u001b[0m\u001b[1;33m)\u001b[0m\u001b[1;33m\u001b[0m\u001b[0m\n\u001b[0m\u001b[0;32m    552\u001b[0m             \u001b[1;32mreturn\u001b[0m \u001b[0msignaled\u001b[0m\u001b[1;33m\u001b[0m\u001b[0m\n\u001b[0;32m    553\u001b[0m \u001b[1;33m\u001b[0m\u001b[0m\n",
      "\u001b[1;32m~\\Anaconda3\\lib\\threading.py\u001b[0m in \u001b[0;36mwait\u001b[1;34m(self, timeout)\u001b[0m\n\u001b[0;32m    297\u001b[0m             \u001b[1;32melse\u001b[0m\u001b[1;33m:\u001b[0m\u001b[1;33m\u001b[0m\u001b[0m\n\u001b[0;32m    298\u001b[0m                 \u001b[1;32mif\u001b[0m \u001b[0mtimeout\u001b[0m \u001b[1;33m>\u001b[0m \u001b[1;36m0\u001b[0m\u001b[1;33m:\u001b[0m\u001b[1;33m\u001b[0m\u001b[0m\n\u001b[1;32m--> 299\u001b[1;33m                     \u001b[0mgotit\u001b[0m \u001b[1;33m=\u001b[0m \u001b[0mwaiter\u001b[0m\u001b[1;33m.\u001b[0m\u001b[0macquire\u001b[0m\u001b[1;33m(\u001b[0m\u001b[1;32mTrue\u001b[0m\u001b[1;33m,\u001b[0m \u001b[0mtimeout\u001b[0m\u001b[1;33m)\u001b[0m\u001b[1;33m\u001b[0m\u001b[0m\n\u001b[0m\u001b[0;32m    300\u001b[0m                 \u001b[1;32melse\u001b[0m\u001b[1;33m:\u001b[0m\u001b[1;33m\u001b[0m\u001b[0m\n\u001b[0;32m    301\u001b[0m                     \u001b[0mgotit\u001b[0m \u001b[1;33m=\u001b[0m \u001b[0mwaiter\u001b[0m\u001b[1;33m.\u001b[0m\u001b[0macquire\u001b[0m\u001b[1;33m(\u001b[0m\u001b[1;32mFalse\u001b[0m\u001b[1;33m)\u001b[0m\u001b[1;33m\u001b[0m\u001b[0m\n",
      "\u001b[1;31mKeyboardInterrupt\u001b[0m: "
     ]
    }
   ],
   "source": [
    "model.fit_offline(batch_vectorizer=batch_vectorizer, num_collection_passes=10)"
   ]
  },
  {
   "cell_type": "code",
   "execution_count": 14,
   "metadata": {},
   "outputs": [
    {
     "name": "stdout",
     "output_type": "stream",
     "text": [
      "[459674.125, 8306.26171875, 4483.96484375, 2873.71142578125, 2374.592041015625, 2154.426025390625, 2035.2706298828125, 1961.7843017578125, 1912.0257568359375, 1876.1219482421875]\n",
      "[0.2869090735912323, 0.47531643509864807, 0.7656528353691101, 0.8958291411399841, 0.9438644647598267, 0.9632195830345154, 0.9725461006164551, 0.9777270555496216, 0.9809162616729736, 0.9830437302589417]\n"
     ]
    }
   ],
   "source": [
    "print(model.score_tracker['perplexity_score'].value)\n",
    "print(model.score_tracker['sparcity_score'].value)"
   ]
  },
  {
   "cell_type": "code",
   "execution_count": 61,
   "metadata": {},
   "outputs": [],
   "source": [
    "theta = model.get_theta_sparse()"
   ]
  },
  {
   "cell_type": "code",
   "execution_count": 62,
   "metadata": {},
   "outputs": [
    {
     "data": {
      "text/plain": [
       "(96761, 1000)"
      ]
     },
     "execution_count": 62,
     "metadata": {},
     "output_type": "execute_result"
    }
   ],
   "source": [
    "theta[0].transpose().shape"
   ]
  },
  {
   "cell_type": "code",
   "execution_count": 63,
   "metadata": {},
   "outputs": [],
   "source": [
    "model.save(\"sources/plsa_model2\")"
   ]
  },
  {
   "cell_type": "code",
   "execution_count": 64,
   "metadata": {},
   "outputs": [],
   "source": [
    "save_npz(\"sources/theta2\", theta[0].transpose())"
   ]
  },
  {
   "cell_type": "code",
   "execution_count": 15,
   "metadata": {},
   "outputs": [],
   "source": [
    "theta_df = model.get_theta().transpose()"
   ]
  },
  {
   "cell_type": "code",
   "execution_count": 58,
   "metadata": {},
   "outputs": [],
   "source": [
    "theta_dict = {}\n",
    "for index, row in theta_df.iterrows():\n",
    "    theta_dict[bow.get_doc_id(index - 1)] = list(row)"
   ]
  },
  {
   "cell_type": "code",
   "execution_count": 60,
   "metadata": {},
   "outputs": [],
   "source": [
    "with open(\"sources/plsa_res.json\", \"w\") as output:\n",
    "    output.write(json.dumps(theta_dict))"
   ]
  },
  {
   "cell_type": "code",
   "execution_count": 66,
   "metadata": {},
   "outputs": [],
   "source": [
    "with open(\"sources/plsa_get_doc_id\", \"w\") as output:\n",
    "    output.write(json.dumps(bow.index2id))"
   ]
  },
  {
   "cell_type": "code",
   "execution_count": 46,
   "metadata": {},
   "outputs": [
    {
     "data": {
      "text/plain": [
       "{0, 3252, 8365}"
      ]
     },
     "execution_count": 46,
     "metadata": {},
     "output_type": "execute_result"
    }
   ],
   "source": [
    "#Это те, которые plsa пропустил\n",
    "\n",
    "#len(bow.index2id.keys())-len(theta_df.index)\n",
    "set(set(bow.index2id.keys())).difference(theta_df.index)"
   ]
  }
 ],
 "metadata": {
  "kernelspec": {
   "display_name": "Python 3",
   "language": "python",
   "name": "python3"
  },
  "language_info": {
   "codemirror_mode": {
    "name": "ipython",
    "version": 3
   },
   "file_extension": ".py",
   "mimetype": "text/x-python",
   "name": "python",
   "nbconvert_exporter": "python",
   "pygments_lexer": "ipython3",
   "version": "3.6.4"
  }
 },
 "nbformat": 4,
 "nbformat_minor": 2
}
