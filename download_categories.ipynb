{
 "cells": [
  {
   "cell_type": "code",
   "execution_count": 70,
   "metadata": {
    "collapsed": true
   },
   "outputs": [],
   "source": [
    "import json\n",
    "import jsonlines\n",
    "from collections import Counter\n",
    "from functools import reduce\n",
    "import numpy as np\n",
    "import re\n",
    "from os import listdir\n",
    "from os import close\n",
    "import codecs \n",
    "import mediawiki\n",
    "from joblib import Parallel, delayed\n",
    "import sys\n",
    "from time import sleep\n",
    "import os\n",
    "\n",
    "wikipedia = mediawiki.MediaWiki(lang=u'ru')"
   ]
  },
  {
   "cell_type": "code",
   "execution_count": 71,
   "metadata": {
    "collapsed": true
   },
   "outputs": [],
   "source": [
    "import urllib.request\n",
    "from urllib.parse import quote\n",
    "\n",
    "def request_categories(ids):\n",
    "    url = \"https://ru.wikipedia.org/w/api.php?action=query&prop=revisions&rvprop=content&format=json&pageids=\"\n",
    "    url = url + '|'.join(ids)\n",
    "    print(url)\n",
    "    try:\n",
    "        p = urllib.request.urlopen(url).read()\n",
    "    except KeyboardInterrupt:\n",
    "        sys.exit(0)\n",
    "            \n",
    "    except:\n",
    "        print(\"Url not opened\")\n",
    "        sleep(30)\n",
    "        return {}\n",
    "    \n",
    "    pages = json.loads(p)['query']['pages']\n",
    "    result = {}\n",
    "    for id in ids:\n",
    "        try:\n",
    "            article = pages[id]['revisions'][-1]['*']\n",
    "            categories = re.findall(r'\\[\\[Категория:(.*)\\]\\]', article)\n",
    "            if len(categories) > 0:\n",
    "                for i in range(len(categories)):\n",
    "                    categories[i] = re.sub(r'^\\s', '', categories[i])\n",
    "                    categories[i] = re.sub(r'(\\|\\s)$', '', categories[i])\n",
    "                    \n",
    "                categories = sorted(list(categories))\n",
    "                result[id] = categories\n",
    "            #else:\n",
    "                #print(id + ' - no categories')\n",
    "                \n",
    "        except KeyboardInterrupt:\n",
    "            sys.exit(0)\n",
    "            \n",
    "        except:\n",
    "            print(id + \" is gone\")\n",
    "    \n",
    "    return result"
   ]
  },
  {
   "cell_type": "code",
   "execution_count": 72,
   "metadata": {},
   "outputs": [
    {
     "name": "stdout",
     "output_type": "stream",
     "text": [
      "https://ru.wikipedia.org/w/api.php?action=query&prop=revisions&rvprop=content&format=json&pageids=71|76\n"
     ]
    },
    {
     "data": {
      "text/plain": [
       "{'71': ['Города Древней Руси',\n",
       "  'Города из Списка русских городов дальних и ближних',\n",
       "  'Города федерального значения России',\n",
       "  'Города, в которых проходили летние Олимпийские игры 1980',\n",
       "  'Города, основанные в XII веке',\n",
       "  'Города-миллионеры России',\n",
       "  'Золотое кольцо России',\n",
       "  'Москва',\n",
       "  'Населённые пункты, основанные в 1147 году',\n",
       "  'Областные центры России',\n",
       "  'Столицы летних Универсиад']}"
      ]
     },
     "execution_count": 72,
     "metadata": {},
     "output_type": "execute_result"
    }
   ],
   "source": [
    "request_categories([\"71\", \"76\"])"
   ]
  },
  {
   "cell_type": "code",
   "execution_count": 73,
   "metadata": {},
   "outputs": [],
   "source": [
    "path = 'wiki_extracted1/'\n",
    "alf = listdir(path)"
   ]
  },
  {
   "cell_type": "code",
   "execution_count": 2,
   "metadata": {},
   "outputs": [
    {
     "ename": "IndentationError",
     "evalue": "unexpected indent (<ipython-input-2-79fbe78342d9>, line 35)",
     "output_type": "error",
     "traceback": [
      "\u001b[1;36m  File \u001b[1;32m\"<ipython-input-2-79fbe78342d9>\"\u001b[1;36m, line \u001b[1;32m35\u001b[0m\n\u001b[1;33m    file = re.sub(r'\\n+', '. ', file)\u001b[0m\n\u001b[1;37m    ^\u001b[0m\n\u001b[1;31mIndentationError\u001b[0m\u001b[1;31m:\u001b[0m unexpected indent\n"
     ]
    }
   ],
   "source": [
    "%%capture\n",
    "\n",
    "'''\n",
    "def chunks(l, n):\n",
    "    for i in range(0, len(l), n):\n",
    "        yield l[i:i + n]\n",
    "\n",
    "        \n",
    "def walker(a):\n",
    "    data = {}\n",
    "    _path = path + a\n",
    "    __path = [_path + '/' + p for p in listdir(_path)]\n",
    "    print(a, end=' ')\n",
    "    output = jsonlines.open('c/' + a, 'w')\n",
    "    for p in __path:\n",
    "        print(p) #[18:])\n",
    "        with jsonlines.open(p, 'r') as f:\n",
    "            file_data = {}\n",
    "            ids = []\n",
    "            for article in f:\n",
    "                id = article['id']\n",
    "                ids.append(id)\n",
    "                file_data[id] = {'title': article['title'], 'text': article['text']}\n",
    "            \n",
    "            for chunk in chunks(ids, 20):\n",
    "                result = request_categories(chunk)\n",
    "                for k in result.keys():\n",
    "                    file_data[k].update({'categories': result[k]})\n",
    "                sleep(2)\n",
    "                \n",
    "            #print(file_data.keys())\n",
    "            file_data = {key: value for key, value in file_data.items() if 'categories' in value.keys()}\n",
    "            \n",
    "            #print(file_data.keys())\n",
    "            '''\n",
    "            file = re.sub(r'\\n+', '. ', file)\n",
    "            file = re.split(r'</doc>', file)\n",
    "            for f in file[:-1]:\n",
    "                id = re.findall(r'id=\"(.*)\" url', f)[0]\n",
    "                try:\n",
    "                    categories.extend(wikipedia.page(pageid=int(id)).categories)\n",
    "                    page_ids.append(int(id))\n",
    "                    articles.append(re.findall(r'\">\\. (.*)', f)[0])\n",
    "                except KeyboardInterrupt:\n",
    "                    close()\n",
    "                except:\n",
    "                    print(\"Page with id \" + str(id) + \" not found\")\n",
    "            '''\n",
    "            \n",
    "            #Тут немного намудрил, но исправлять предыдущее лень\n",
    "            for d in file_data.items():\n",
    "                o = d[1]\n",
    "                o['id'] = d[0]\n",
    "                output.write(o)\n",
    "            #data.update(file_data)\n",
    "    \n",
    "    #return data\n",
    "\n",
    "#for a in alf:\n",
    "    #walker(a)\n",
    "print(alf)\n",
    "Parallel(n_jobs=2)(delayed(walker)(a) for a in alf)\n",
    "'''"
   ]
  },
  {
   "cell_type": "code",
   "execution_count": null,
   "metadata": {
    "collapsed": true
   },
   "outputs": [],
   "source": [
    "### with open('output.json') as f:\n",
    "    #info = json.load(f)\n",
    "    #print(len(info))\n",
    "    #categories = [i[\"categories\"] for i in info]\n",
    "    #categories = reduce(lambda x,y:x+y, categories)\n",
    "categories = [c[10:] for c in categories]\n",
    "print(sorted(set([c for c in categories if re.findall(r'.* /d/d/d/d .*', c)])))\n",
    "counts = Counter(categories)\n",
    "print(np.mean(list(counts.values())))\n",
    "print(counts)"
   ]
  },
  {
   "cell_type": "code",
   "execution_count": 67,
   "metadata": {},
   "outputs": [
    {
     "data": {
      "text/plain": [
       "'asd'"
      ]
     },
     "execution_count": 67,
     "metadata": {},
     "output_type": "execute_result"
    }
   ],
   "source": [
    "a = ' asdkj'\n",
    "b = 'asd| '\n",
    "re.sub(r'^\\s', '', b)\n",
    "re.sub(r'(\\|\\s)$', '', b)"
   ]
  },
  {
   "cell_type": "code",
   "execution_count": null,
   "metadata": {
    "collapsed": true
   },
   "outputs": [],
   "source": [
    "a = {'1': 1, '2': 2}\n",
    "a.get('3') = a.get('3') + 1\n",
    "a"
   ]
  },
  {
   "cell_type": "code",
   "execution_count": null,
   "metadata": {
    "collapsed": true
   },
   "outputs": [],
   "source": []
  }
 ],
 "metadata": {
  "anaconda-cloud": {},
  "kernelspec": {
   "display_name": "Python 3",
   "language": "python",
   "name": "python3"
  },
  "language_info": {
   "codemirror_mode": {
    "name": "ipython",
    "version": 3
   },
   "file_extension": ".py",
   "mimetype": "text/x-python",
   "name": "python",
   "nbconvert_exporter": "python",
   "pygments_lexer": "ipython3",
   "version": "3.6.4"
  }
 },
 "nbformat": 4,
 "nbformat_minor": 1
}
